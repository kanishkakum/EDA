{
 "cells": [
  {
   "cell_type": "code",
   "execution_count": 1,
   "id": "0b78a427",
   "metadata": {},
   "outputs": [],
   "source": [
    "import pandas as pd\n",
    "import numpy as np\n",
    "import seaborn as sns\n",
    "import matplotlib.pyplot as plt\n",
    "import plotly.express as px\n",
    "import warnings\n",
    "from six.moves import urllib\n",
    "\n",
    "warnings.filterwarnings(\"ignore\")\n",
    "%matplotlib inline"
   ]
  },
  {
   "cell_type": "markdown",
   "id": "29e96b23",
   "metadata": {},
   "source": [
    "# Reading the dataset"
   ]
  },
  {
   "cell_type": "code",
   "execution_count": 6,
   "id": "611ab56f",
   "metadata": {},
   "outputs": [
    {
     "data": {
      "text/html": [
       "<div>\n",
       "<style scoped>\n",
       "    .dataframe tbody tr th:only-of-type {\n",
       "        vertical-align: middle;\n",
       "    }\n",
       "\n",
       "    .dataframe tbody tr th {\n",
       "        vertical-align: top;\n",
       "    }\n",
       "\n",
       "    .dataframe thead th {\n",
       "        text-align: right;\n",
       "    }\n",
       "</style>\n",
       "<table border=\"1\" class=\"dataframe\">\n",
       "  <thead>\n",
       "    <tr style=\"text-align: right;\">\n",
       "      <th></th>\n",
       "      <th>day</th>\n",
       "      <th>month</th>\n",
       "      <th>year</th>\n",
       "      <th>Temperature</th>\n",
       "      <th>RH</th>\n",
       "      <th>Ws</th>\n",
       "      <th>Rain</th>\n",
       "      <th>FFMC</th>\n",
       "      <th>DMC</th>\n",
       "      <th>DC</th>\n",
       "      <th>ISI</th>\n",
       "      <th>BUI</th>\n",
       "      <th>FWI</th>\n",
       "      <th>Classes</th>\n",
       "    </tr>\n",
       "  </thead>\n",
       "  <tbody>\n",
       "    <tr>\n",
       "      <th>0</th>\n",
       "      <td>01</td>\n",
       "      <td>06</td>\n",
       "      <td>2012</td>\n",
       "      <td>29</td>\n",
       "      <td>57</td>\n",
       "      <td>18</td>\n",
       "      <td>0</td>\n",
       "      <td>65.7</td>\n",
       "      <td>3.4</td>\n",
       "      <td>7.6</td>\n",
       "      <td>1.3</td>\n",
       "      <td>3.4</td>\n",
       "      <td>0.5</td>\n",
       "      <td>not fire</td>\n",
       "    </tr>\n",
       "    <tr>\n",
       "      <th>1</th>\n",
       "      <td>02</td>\n",
       "      <td>06</td>\n",
       "      <td>2012</td>\n",
       "      <td>29</td>\n",
       "      <td>61</td>\n",
       "      <td>13</td>\n",
       "      <td>1.3</td>\n",
       "      <td>64.4</td>\n",
       "      <td>4.1</td>\n",
       "      <td>7.6</td>\n",
       "      <td>1</td>\n",
       "      <td>3.9</td>\n",
       "      <td>0.4</td>\n",
       "      <td>not fire</td>\n",
       "    </tr>\n",
       "    <tr>\n",
       "      <th>2</th>\n",
       "      <td>03</td>\n",
       "      <td>06</td>\n",
       "      <td>2012</td>\n",
       "      <td>26</td>\n",
       "      <td>82</td>\n",
       "      <td>22</td>\n",
       "      <td>13.1</td>\n",
       "      <td>47.1</td>\n",
       "      <td>2.5</td>\n",
       "      <td>7.1</td>\n",
       "      <td>0.3</td>\n",
       "      <td>2.7</td>\n",
       "      <td>0.1</td>\n",
       "      <td>not fire</td>\n",
       "    </tr>\n",
       "    <tr>\n",
       "      <th>3</th>\n",
       "      <td>04</td>\n",
       "      <td>06</td>\n",
       "      <td>2012</td>\n",
       "      <td>25</td>\n",
       "      <td>89</td>\n",
       "      <td>13</td>\n",
       "      <td>2.5</td>\n",
       "      <td>28.6</td>\n",
       "      <td>1.3</td>\n",
       "      <td>6.9</td>\n",
       "      <td>0</td>\n",
       "      <td>1.7</td>\n",
       "      <td>0</td>\n",
       "      <td>not fire</td>\n",
       "    </tr>\n",
       "    <tr>\n",
       "      <th>4</th>\n",
       "      <td>05</td>\n",
       "      <td>06</td>\n",
       "      <td>2012</td>\n",
       "      <td>27</td>\n",
       "      <td>77</td>\n",
       "      <td>16</td>\n",
       "      <td>0</td>\n",
       "      <td>64.8</td>\n",
       "      <td>3</td>\n",
       "      <td>14.2</td>\n",
       "      <td>1.2</td>\n",
       "      <td>3.9</td>\n",
       "      <td>0.5</td>\n",
       "      <td>not fire</td>\n",
       "    </tr>\n",
       "    <tr>\n",
       "      <th>...</th>\n",
       "      <td>...</td>\n",
       "      <td>...</td>\n",
       "      <td>...</td>\n",
       "      <td>...</td>\n",
       "      <td>...</td>\n",
       "      <td>...</td>\n",
       "      <td>...</td>\n",
       "      <td>...</td>\n",
       "      <td>...</td>\n",
       "      <td>...</td>\n",
       "      <td>...</td>\n",
       "      <td>...</td>\n",
       "      <td>...</td>\n",
       "      <td>...</td>\n",
       "    </tr>\n",
       "    <tr>\n",
       "      <th>241</th>\n",
       "      <td>26</td>\n",
       "      <td>09</td>\n",
       "      <td>2012</td>\n",
       "      <td>30</td>\n",
       "      <td>65</td>\n",
       "      <td>14</td>\n",
       "      <td>0</td>\n",
       "      <td>85.4</td>\n",
       "      <td>16</td>\n",
       "      <td>44.5</td>\n",
       "      <td>4.5</td>\n",
       "      <td>16.9</td>\n",
       "      <td>6.5</td>\n",
       "      <td>fire</td>\n",
       "    </tr>\n",
       "    <tr>\n",
       "      <th>242</th>\n",
       "      <td>27</td>\n",
       "      <td>09</td>\n",
       "      <td>2012</td>\n",
       "      <td>28</td>\n",
       "      <td>87</td>\n",
       "      <td>15</td>\n",
       "      <td>4.4</td>\n",
       "      <td>41.1</td>\n",
       "      <td>6.5</td>\n",
       "      <td>8</td>\n",
       "      <td>0.1</td>\n",
       "      <td>6.2</td>\n",
       "      <td>0</td>\n",
       "      <td>not fire</td>\n",
       "    </tr>\n",
       "    <tr>\n",
       "      <th>243</th>\n",
       "      <td>28</td>\n",
       "      <td>09</td>\n",
       "      <td>2012</td>\n",
       "      <td>27</td>\n",
       "      <td>87</td>\n",
       "      <td>29</td>\n",
       "      <td>0.5</td>\n",
       "      <td>45.9</td>\n",
       "      <td>3.5</td>\n",
       "      <td>7.9</td>\n",
       "      <td>0.4</td>\n",
       "      <td>3.4</td>\n",
       "      <td>0.2</td>\n",
       "      <td>not fire</td>\n",
       "    </tr>\n",
       "    <tr>\n",
       "      <th>244</th>\n",
       "      <td>29</td>\n",
       "      <td>09</td>\n",
       "      <td>2012</td>\n",
       "      <td>24</td>\n",
       "      <td>54</td>\n",
       "      <td>18</td>\n",
       "      <td>0.1</td>\n",
       "      <td>79.7</td>\n",
       "      <td>4.3</td>\n",
       "      <td>15.2</td>\n",
       "      <td>1.7</td>\n",
       "      <td>5.1</td>\n",
       "      <td>0.7</td>\n",
       "      <td>not fire</td>\n",
       "    </tr>\n",
       "    <tr>\n",
       "      <th>245</th>\n",
       "      <td>30</td>\n",
       "      <td>09</td>\n",
       "      <td>2012</td>\n",
       "      <td>24</td>\n",
       "      <td>64</td>\n",
       "      <td>15</td>\n",
       "      <td>0.2</td>\n",
       "      <td>67.3</td>\n",
       "      <td>3.8</td>\n",
       "      <td>16.5</td>\n",
       "      <td>1.2</td>\n",
       "      <td>4.8</td>\n",
       "      <td>0.5</td>\n",
       "      <td>not fire</td>\n",
       "    </tr>\n",
       "  </tbody>\n",
       "</table>\n",
       "<p>246 rows × 14 columns</p>\n",
       "</div>"
      ],
      "text/plain": [
       "    day month  year Temperature  RH  Ws Rain   FFMC  DMC    DC  ISI   BUI  \\\n",
       "0    01    06  2012          29  57  18     0  65.7  3.4   7.6  1.3   3.4   \n",
       "1    02    06  2012          29  61  13   1.3  64.4  4.1   7.6    1   3.9   \n",
       "2    03    06  2012          26  82  22  13.1  47.1  2.5   7.1  0.3   2.7   \n",
       "3    04    06  2012          25  89  13   2.5  28.6  1.3   6.9    0   1.7   \n",
       "4    05    06  2012          27  77  16     0  64.8    3  14.2  1.2   3.9   \n",
       "..   ..   ...   ...         ...  ..  ..   ...   ...  ...   ...  ...   ...   \n",
       "241  26    09  2012          30  65  14     0  85.4   16  44.5  4.5  16.9   \n",
       "242  27    09  2012          28  87  15   4.4  41.1  6.5     8  0.1   6.2   \n",
       "243  28    09  2012          27  87  29   0.5  45.9  3.5   7.9  0.4   3.4   \n",
       "244  29    09  2012          24  54  18   0.1  79.7  4.3  15.2  1.7   5.1   \n",
       "245  30    09  2012          24  64  15   0.2  67.3  3.8  16.5  1.2   4.8   \n",
       "\n",
       "     FWI     Classes    \n",
       "0    0.5   not fire     \n",
       "1    0.4   not fire     \n",
       "2    0.1   not fire     \n",
       "3      0   not fire     \n",
       "4    0.5   not fire     \n",
       "..   ...           ...  \n",
       "241  6.5       fire     \n",
       "242    0   not fire     \n",
       "243  0.2   not fire     \n",
       "244  0.7   not fire     \n",
       "245  0.5  not fire      \n",
       "\n",
       "[246 rows x 14 columns]"
      ]
     },
     "execution_count": 6,
     "metadata": {},
     "output_type": "execute_result"
    }
   ],
   "source": [
    "df = pd.read_csv(r\"C:\\Users\\hp\\Downloads\\Algerian_forest_fires_dataset_UPDATE.csv\", header=1)\n",
    "df"
   ]
  },
  {
   "cell_type": "markdown",
   "id": "899d9f30",
   "metadata": {},
   "source": [
    "# Basic Information about dataset"
   ]
  },
  {
   "cell_type": "code",
   "execution_count": 7,
   "id": "22864a1e",
   "metadata": {},
   "outputs": [
    {
     "name": "stdout",
     "output_type": "stream",
     "text": [
      "<class 'pandas.core.frame.DataFrame'>\n",
      "RangeIndex: 246 entries, 0 to 245\n",
      "Data columns (total 14 columns):\n",
      " #   Column       Non-Null Count  Dtype \n",
      "---  ------       --------------  ----- \n",
      " 0   day          246 non-null    object\n",
      " 1   month        245 non-null    object\n",
      " 2   year         245 non-null    object\n",
      " 3   Temperature  245 non-null    object\n",
      " 4    RH          245 non-null    object\n",
      " 5    Ws          245 non-null    object\n",
      " 6   Rain         245 non-null    object\n",
      " 7   FFMC         245 non-null    object\n",
      " 8   DMC          245 non-null    object\n",
      " 9   DC           245 non-null    object\n",
      " 10  ISI          245 non-null    object\n",
      " 11  BUI          245 non-null    object\n",
      " 12  FWI          245 non-null    object\n",
      " 13  Classes      244 non-null    object\n",
      "dtypes: object(14)\n",
      "memory usage: 27.0+ KB\n"
     ]
    }
   ],
   "source": [
    "df.info()"
   ]
  },
  {
   "cell_type": "code",
   "execution_count": 9,
   "id": "25399003",
   "metadata": {},
   "outputs": [],
   "source": [
    "df.loc[122:].head()\n",
    "df.drop(index=[122,123],inplace=True)\n",
    "df.reset_index(inplace=True)"
   ]
  },
  {
   "cell_type": "code",
   "execution_count": 10,
   "id": "98944f25",
   "metadata": {},
   "outputs": [
    {
     "data": {
      "text/html": [
       "<div>\n",
       "<style scoped>\n",
       "    .dataframe tbody tr th:only-of-type {\n",
       "        vertical-align: middle;\n",
       "    }\n",
       "\n",
       "    .dataframe tbody tr th {\n",
       "        vertical-align: top;\n",
       "    }\n",
       "\n",
       "    .dataframe thead th {\n",
       "        text-align: right;\n",
       "    }\n",
       "</style>\n",
       "<table border=\"1\" class=\"dataframe\">\n",
       "  <thead>\n",
       "    <tr style=\"text-align: right;\">\n",
       "      <th></th>\n",
       "      <th>index</th>\n",
       "      <th>day</th>\n",
       "      <th>month</th>\n",
       "      <th>year</th>\n",
       "      <th>Temperature</th>\n",
       "      <th>RH</th>\n",
       "      <th>Ws</th>\n",
       "      <th>Rain</th>\n",
       "      <th>FFMC</th>\n",
       "      <th>DMC</th>\n",
       "      <th>DC</th>\n",
       "      <th>ISI</th>\n",
       "      <th>BUI</th>\n",
       "      <th>FWI</th>\n",
       "      <th>Classes</th>\n",
       "    </tr>\n",
       "  </thead>\n",
       "  <tbody>\n",
       "    <tr>\n",
       "      <th>0</th>\n",
       "      <td>0</td>\n",
       "      <td>01</td>\n",
       "      <td>06</td>\n",
       "      <td>2012</td>\n",
       "      <td>29</td>\n",
       "      <td>57</td>\n",
       "      <td>18</td>\n",
       "      <td>0</td>\n",
       "      <td>65.7</td>\n",
       "      <td>3.4</td>\n",
       "      <td>7.6</td>\n",
       "      <td>1.3</td>\n",
       "      <td>3.4</td>\n",
       "      <td>0.5</td>\n",
       "      <td>not fire</td>\n",
       "    </tr>\n",
       "    <tr>\n",
       "      <th>1</th>\n",
       "      <td>1</td>\n",
       "      <td>02</td>\n",
       "      <td>06</td>\n",
       "      <td>2012</td>\n",
       "      <td>29</td>\n",
       "      <td>61</td>\n",
       "      <td>13</td>\n",
       "      <td>1.3</td>\n",
       "      <td>64.4</td>\n",
       "      <td>4.1</td>\n",
       "      <td>7.6</td>\n",
       "      <td>1</td>\n",
       "      <td>3.9</td>\n",
       "      <td>0.4</td>\n",
       "      <td>not fire</td>\n",
       "    </tr>\n",
       "    <tr>\n",
       "      <th>2</th>\n",
       "      <td>2</td>\n",
       "      <td>03</td>\n",
       "      <td>06</td>\n",
       "      <td>2012</td>\n",
       "      <td>26</td>\n",
       "      <td>82</td>\n",
       "      <td>22</td>\n",
       "      <td>13.1</td>\n",
       "      <td>47.1</td>\n",
       "      <td>2.5</td>\n",
       "      <td>7.1</td>\n",
       "      <td>0.3</td>\n",
       "      <td>2.7</td>\n",
       "      <td>0.1</td>\n",
       "      <td>not fire</td>\n",
       "    </tr>\n",
       "    <tr>\n",
       "      <th>3</th>\n",
       "      <td>3</td>\n",
       "      <td>04</td>\n",
       "      <td>06</td>\n",
       "      <td>2012</td>\n",
       "      <td>25</td>\n",
       "      <td>89</td>\n",
       "      <td>13</td>\n",
       "      <td>2.5</td>\n",
       "      <td>28.6</td>\n",
       "      <td>1.3</td>\n",
       "      <td>6.9</td>\n",
       "      <td>0</td>\n",
       "      <td>1.7</td>\n",
       "      <td>0</td>\n",
       "      <td>not fire</td>\n",
       "    </tr>\n",
       "    <tr>\n",
       "      <th>4</th>\n",
       "      <td>4</td>\n",
       "      <td>05</td>\n",
       "      <td>06</td>\n",
       "      <td>2012</td>\n",
       "      <td>27</td>\n",
       "      <td>77</td>\n",
       "      <td>16</td>\n",
       "      <td>0</td>\n",
       "      <td>64.8</td>\n",
       "      <td>3</td>\n",
       "      <td>14.2</td>\n",
       "      <td>1.2</td>\n",
       "      <td>3.9</td>\n",
       "      <td>0.5</td>\n",
       "      <td>not fire</td>\n",
       "    </tr>\n",
       "    <tr>\n",
       "      <th>...</th>\n",
       "      <td>...</td>\n",
       "      <td>...</td>\n",
       "      <td>...</td>\n",
       "      <td>...</td>\n",
       "      <td>...</td>\n",
       "      <td>...</td>\n",
       "      <td>...</td>\n",
       "      <td>...</td>\n",
       "      <td>...</td>\n",
       "      <td>...</td>\n",
       "      <td>...</td>\n",
       "      <td>...</td>\n",
       "      <td>...</td>\n",
       "      <td>...</td>\n",
       "      <td>...</td>\n",
       "    </tr>\n",
       "    <tr>\n",
       "      <th>239</th>\n",
       "      <td>241</td>\n",
       "      <td>26</td>\n",
       "      <td>09</td>\n",
       "      <td>2012</td>\n",
       "      <td>30</td>\n",
       "      <td>65</td>\n",
       "      <td>14</td>\n",
       "      <td>0</td>\n",
       "      <td>85.4</td>\n",
       "      <td>16</td>\n",
       "      <td>44.5</td>\n",
       "      <td>4.5</td>\n",
       "      <td>16.9</td>\n",
       "      <td>6.5</td>\n",
       "      <td>fire</td>\n",
       "    </tr>\n",
       "    <tr>\n",
       "      <th>240</th>\n",
       "      <td>242</td>\n",
       "      <td>27</td>\n",
       "      <td>09</td>\n",
       "      <td>2012</td>\n",
       "      <td>28</td>\n",
       "      <td>87</td>\n",
       "      <td>15</td>\n",
       "      <td>4.4</td>\n",
       "      <td>41.1</td>\n",
       "      <td>6.5</td>\n",
       "      <td>8</td>\n",
       "      <td>0.1</td>\n",
       "      <td>6.2</td>\n",
       "      <td>0</td>\n",
       "      <td>not fire</td>\n",
       "    </tr>\n",
       "    <tr>\n",
       "      <th>241</th>\n",
       "      <td>243</td>\n",
       "      <td>28</td>\n",
       "      <td>09</td>\n",
       "      <td>2012</td>\n",
       "      <td>27</td>\n",
       "      <td>87</td>\n",
       "      <td>29</td>\n",
       "      <td>0.5</td>\n",
       "      <td>45.9</td>\n",
       "      <td>3.5</td>\n",
       "      <td>7.9</td>\n",
       "      <td>0.4</td>\n",
       "      <td>3.4</td>\n",
       "      <td>0.2</td>\n",
       "      <td>not fire</td>\n",
       "    </tr>\n",
       "    <tr>\n",
       "      <th>242</th>\n",
       "      <td>244</td>\n",
       "      <td>29</td>\n",
       "      <td>09</td>\n",
       "      <td>2012</td>\n",
       "      <td>24</td>\n",
       "      <td>54</td>\n",
       "      <td>18</td>\n",
       "      <td>0.1</td>\n",
       "      <td>79.7</td>\n",
       "      <td>4.3</td>\n",
       "      <td>15.2</td>\n",
       "      <td>1.7</td>\n",
       "      <td>5.1</td>\n",
       "      <td>0.7</td>\n",
       "      <td>not fire</td>\n",
       "    </tr>\n",
       "    <tr>\n",
       "      <th>243</th>\n",
       "      <td>245</td>\n",
       "      <td>30</td>\n",
       "      <td>09</td>\n",
       "      <td>2012</td>\n",
       "      <td>24</td>\n",
       "      <td>64</td>\n",
       "      <td>15</td>\n",
       "      <td>0.2</td>\n",
       "      <td>67.3</td>\n",
       "      <td>3.8</td>\n",
       "      <td>16.5</td>\n",
       "      <td>1.2</td>\n",
       "      <td>4.8</td>\n",
       "      <td>0.5</td>\n",
       "      <td>not fire</td>\n",
       "    </tr>\n",
       "  </tbody>\n",
       "</table>\n",
       "<p>244 rows × 15 columns</p>\n",
       "</div>"
      ],
      "text/plain": [
       "     index day month  year Temperature  RH  Ws Rain   FFMC  DMC    DC  ISI  \\\n",
       "0        0  01    06  2012          29  57  18     0  65.7  3.4   7.6  1.3   \n",
       "1        1  02    06  2012          29  61  13   1.3  64.4  4.1   7.6    1   \n",
       "2        2  03    06  2012          26  82  22  13.1  47.1  2.5   7.1  0.3   \n",
       "3        3  04    06  2012          25  89  13   2.5  28.6  1.3   6.9    0   \n",
       "4        4  05    06  2012          27  77  16     0  64.8    3  14.2  1.2   \n",
       "..     ...  ..   ...   ...         ...  ..  ..   ...   ...  ...   ...  ...   \n",
       "239    241  26    09  2012          30  65  14     0  85.4   16  44.5  4.5   \n",
       "240    242  27    09  2012          28  87  15   4.4  41.1  6.5     8  0.1   \n",
       "241    243  28    09  2012          27  87  29   0.5  45.9  3.5   7.9  0.4   \n",
       "242    244  29    09  2012          24  54  18   0.1  79.7  4.3  15.2  1.7   \n",
       "243    245  30    09  2012          24  64  15   0.2  67.3  3.8  16.5  1.2   \n",
       "\n",
       "      BUI  FWI     Classes    \n",
       "0     3.4  0.5   not fire     \n",
       "1     3.9  0.4   not fire     \n",
       "2     2.7  0.1   not fire     \n",
       "3     1.7    0   not fire     \n",
       "4     3.9  0.5   not fire     \n",
       "..    ...  ...           ...  \n",
       "239  16.9  6.5       fire     \n",
       "240   6.2    0   not fire     \n",
       "241   3.4  0.2   not fire     \n",
       "242   5.1  0.7   not fire     \n",
       "243   4.8  0.5  not fire      \n",
       "\n",
       "[244 rows x 15 columns]"
      ]
     },
     "execution_count": 10,
     "metadata": {},
     "output_type": "execute_result"
    }
   ],
   "source": [
    "df"
   ]
  },
  {
   "cell_type": "markdown",
   "id": "77e179be",
   "metadata": {},
   "source": [
    "# Dividing the dataset to region wise and creating a column named as region"
   ]
  },
  {
   "cell_type": "code",
   "execution_count": 22,
   "id": "307bcfea",
   "metadata": {},
   "outputs": [
    {
     "data": {
      "text/html": [
       "<div>\n",
       "<style scoped>\n",
       "    .dataframe tbody tr th:only-of-type {\n",
       "        vertical-align: middle;\n",
       "    }\n",
       "\n",
       "    .dataframe tbody tr th {\n",
       "        vertical-align: top;\n",
       "    }\n",
       "\n",
       "    .dataframe thead th {\n",
       "        text-align: right;\n",
       "    }\n",
       "</style>\n",
       "<table border=\"1\" class=\"dataframe\">\n",
       "  <thead>\n",
       "    <tr style=\"text-align: right;\">\n",
       "      <th></th>\n",
       "      <th>index</th>\n",
       "      <th>day</th>\n",
       "      <th>month</th>\n",
       "      <th>year</th>\n",
       "      <th>Temperature</th>\n",
       "      <th>RH</th>\n",
       "      <th>Ws</th>\n",
       "      <th>Rain</th>\n",
       "      <th>FFMC</th>\n",
       "      <th>DMC</th>\n",
       "      <th>DC</th>\n",
       "      <th>ISI</th>\n",
       "      <th>BUI</th>\n",
       "      <th>FWI</th>\n",
       "      <th>Classes</th>\n",
       "      <th>region</th>\n",
       "      <th>Region</th>\n",
       "    </tr>\n",
       "  </thead>\n",
       "  <tbody>\n",
       "    <tr>\n",
       "      <th>0</th>\n",
       "      <td>0</td>\n",
       "      <td>01</td>\n",
       "      <td>06</td>\n",
       "      <td>2012</td>\n",
       "      <td>29</td>\n",
       "      <td>57</td>\n",
       "      <td>18</td>\n",
       "      <td>0</td>\n",
       "      <td>65.7</td>\n",
       "      <td>3.4</td>\n",
       "      <td>7.6</td>\n",
       "      <td>1.3</td>\n",
       "      <td>3.4</td>\n",
       "      <td>0.5</td>\n",
       "      <td>not fire</td>\n",
       "      <td>0</td>\n",
       "      <td>0</td>\n",
       "    </tr>\n",
       "    <tr>\n",
       "      <th>1</th>\n",
       "      <td>1</td>\n",
       "      <td>02</td>\n",
       "      <td>06</td>\n",
       "      <td>2012</td>\n",
       "      <td>29</td>\n",
       "      <td>61</td>\n",
       "      <td>13</td>\n",
       "      <td>1.3</td>\n",
       "      <td>64.4</td>\n",
       "      <td>4.1</td>\n",
       "      <td>7.6</td>\n",
       "      <td>1</td>\n",
       "      <td>3.9</td>\n",
       "      <td>0.4</td>\n",
       "      <td>not fire</td>\n",
       "      <td>0</td>\n",
       "      <td>0</td>\n",
       "    </tr>\n",
       "    <tr>\n",
       "      <th>2</th>\n",
       "      <td>2</td>\n",
       "      <td>03</td>\n",
       "      <td>06</td>\n",
       "      <td>2012</td>\n",
       "      <td>26</td>\n",
       "      <td>82</td>\n",
       "      <td>22</td>\n",
       "      <td>13.1</td>\n",
       "      <td>47.1</td>\n",
       "      <td>2.5</td>\n",
       "      <td>7.1</td>\n",
       "      <td>0.3</td>\n",
       "      <td>2.7</td>\n",
       "      <td>0.1</td>\n",
       "      <td>not fire</td>\n",
       "      <td>0</td>\n",
       "      <td>0</td>\n",
       "    </tr>\n",
       "    <tr>\n",
       "      <th>3</th>\n",
       "      <td>3</td>\n",
       "      <td>04</td>\n",
       "      <td>06</td>\n",
       "      <td>2012</td>\n",
       "      <td>25</td>\n",
       "      <td>89</td>\n",
       "      <td>13</td>\n",
       "      <td>2.5</td>\n",
       "      <td>28.6</td>\n",
       "      <td>1.3</td>\n",
       "      <td>6.9</td>\n",
       "      <td>0</td>\n",
       "      <td>1.7</td>\n",
       "      <td>0</td>\n",
       "      <td>not fire</td>\n",
       "      <td>0</td>\n",
       "      <td>0</td>\n",
       "    </tr>\n",
       "    <tr>\n",
       "      <th>4</th>\n",
       "      <td>4</td>\n",
       "      <td>05</td>\n",
       "      <td>06</td>\n",
       "      <td>2012</td>\n",
       "      <td>27</td>\n",
       "      <td>77</td>\n",
       "      <td>16</td>\n",
       "      <td>0</td>\n",
       "      <td>64.8</td>\n",
       "      <td>3</td>\n",
       "      <td>14.2</td>\n",
       "      <td>1.2</td>\n",
       "      <td>3.9</td>\n",
       "      <td>0.5</td>\n",
       "      <td>not fire</td>\n",
       "      <td>0</td>\n",
       "      <td>0</td>\n",
       "    </tr>\n",
       "    <tr>\n",
       "      <th>...</th>\n",
       "      <td>...</td>\n",
       "      <td>...</td>\n",
       "      <td>...</td>\n",
       "      <td>...</td>\n",
       "      <td>...</td>\n",
       "      <td>...</td>\n",
       "      <td>...</td>\n",
       "      <td>...</td>\n",
       "      <td>...</td>\n",
       "      <td>...</td>\n",
       "      <td>...</td>\n",
       "      <td>...</td>\n",
       "      <td>...</td>\n",
       "      <td>...</td>\n",
       "      <td>...</td>\n",
       "      <td>...</td>\n",
       "      <td>...</td>\n",
       "    </tr>\n",
       "    <tr>\n",
       "      <th>239</th>\n",
       "      <td>241</td>\n",
       "      <td>26</td>\n",
       "      <td>09</td>\n",
       "      <td>2012</td>\n",
       "      <td>30</td>\n",
       "      <td>65</td>\n",
       "      <td>14</td>\n",
       "      <td>0</td>\n",
       "      <td>85.4</td>\n",
       "      <td>16</td>\n",
       "      <td>44.5</td>\n",
       "      <td>4.5</td>\n",
       "      <td>16.9</td>\n",
       "      <td>6.5</td>\n",
       "      <td>fire</td>\n",
       "      <td>0</td>\n",
       "      <td>1</td>\n",
       "    </tr>\n",
       "    <tr>\n",
       "      <th>240</th>\n",
       "      <td>242</td>\n",
       "      <td>27</td>\n",
       "      <td>09</td>\n",
       "      <td>2012</td>\n",
       "      <td>28</td>\n",
       "      <td>87</td>\n",
       "      <td>15</td>\n",
       "      <td>4.4</td>\n",
       "      <td>41.1</td>\n",
       "      <td>6.5</td>\n",
       "      <td>8</td>\n",
       "      <td>0.1</td>\n",
       "      <td>6.2</td>\n",
       "      <td>0</td>\n",
       "      <td>not fire</td>\n",
       "      <td>0</td>\n",
       "      <td>1</td>\n",
       "    </tr>\n",
       "    <tr>\n",
       "      <th>241</th>\n",
       "      <td>243</td>\n",
       "      <td>28</td>\n",
       "      <td>09</td>\n",
       "      <td>2012</td>\n",
       "      <td>27</td>\n",
       "      <td>87</td>\n",
       "      <td>29</td>\n",
       "      <td>0.5</td>\n",
       "      <td>45.9</td>\n",
       "      <td>3.5</td>\n",
       "      <td>7.9</td>\n",
       "      <td>0.4</td>\n",
       "      <td>3.4</td>\n",
       "      <td>0.2</td>\n",
       "      <td>not fire</td>\n",
       "      <td>0</td>\n",
       "      <td>1</td>\n",
       "    </tr>\n",
       "    <tr>\n",
       "      <th>242</th>\n",
       "      <td>244</td>\n",
       "      <td>29</td>\n",
       "      <td>09</td>\n",
       "      <td>2012</td>\n",
       "      <td>24</td>\n",
       "      <td>54</td>\n",
       "      <td>18</td>\n",
       "      <td>0.1</td>\n",
       "      <td>79.7</td>\n",
       "      <td>4.3</td>\n",
       "      <td>15.2</td>\n",
       "      <td>1.7</td>\n",
       "      <td>5.1</td>\n",
       "      <td>0.7</td>\n",
       "      <td>not fire</td>\n",
       "      <td>0</td>\n",
       "      <td>1</td>\n",
       "    </tr>\n",
       "    <tr>\n",
       "      <th>243</th>\n",
       "      <td>245</td>\n",
       "      <td>30</td>\n",
       "      <td>09</td>\n",
       "      <td>2012</td>\n",
       "      <td>24</td>\n",
       "      <td>64</td>\n",
       "      <td>15</td>\n",
       "      <td>0.2</td>\n",
       "      <td>67.3</td>\n",
       "      <td>3.8</td>\n",
       "      <td>16.5</td>\n",
       "      <td>1.2</td>\n",
       "      <td>4.8</td>\n",
       "      <td>0.5</td>\n",
       "      <td>not fire</td>\n",
       "      <td>0</td>\n",
       "      <td>1</td>\n",
       "    </tr>\n",
       "  </tbody>\n",
       "</table>\n",
       "<p>244 rows × 17 columns</p>\n",
       "</div>"
      ],
      "text/plain": [
       "     index day month  year Temperature  RH  Ws Rain   FFMC  DMC    DC  ISI  \\\n",
       "0        0  01    06  2012          29  57  18     0  65.7  3.4   7.6  1.3   \n",
       "1        1  02    06  2012          29  61  13   1.3  64.4  4.1   7.6    1   \n",
       "2        2  03    06  2012          26  82  22  13.1  47.1  2.5   7.1  0.3   \n",
       "3        3  04    06  2012          25  89  13   2.5  28.6  1.3   6.9    0   \n",
       "4        4  05    06  2012          27  77  16     0  64.8    3  14.2  1.2   \n",
       "..     ...  ..   ...   ...         ...  ..  ..   ...   ...  ...   ...  ...   \n",
       "239    241  26    09  2012          30  65  14     0  85.4   16  44.5  4.5   \n",
       "240    242  27    09  2012          28  87  15   4.4  41.1  6.5     8  0.1   \n",
       "241    243  28    09  2012          27  87  29   0.5  45.9  3.5   7.9  0.4   \n",
       "242    244  29    09  2012          24  54  18   0.1  79.7  4.3  15.2  1.7   \n",
       "243    245  30    09  2012          24  64  15   0.2  67.3  3.8  16.5  1.2   \n",
       "\n",
       "      BUI  FWI     Classes    region  Region  \n",
       "0     3.4  0.5   not fire          0       0  \n",
       "1     3.9  0.4   not fire          0       0  \n",
       "2     2.7  0.1   not fire          0       0  \n",
       "3     1.7    0   not fire          0       0  \n",
       "4     3.9  0.5   not fire          0       0  \n",
       "..    ...  ...           ...     ...     ...  \n",
       "239  16.9  6.5       fire          0       1  \n",
       "240   6.2    0   not fire          0       1  \n",
       "241   3.4  0.2   not fire          0       1  \n",
       "242   5.1  0.7   not fire          0       1  \n",
       "243   4.8  0.5  not fire           0       1  \n",
       "\n",
       "[244 rows x 17 columns]"
      ]
     },
     "execution_count": 22,
     "metadata": {},
     "output_type": "execute_result"
    }
   ],
   "source": [
    "df['Region']=0\n",
    "for i in range(len(df)):\n",
    "    if i<122:\n",
    "        df['Region'][i]=0\n",
    "    else:\n",
    "        df['Region'][i]=1\n",
    "df        "
   ]
  },
  {
   "cell_type": "code",
   "execution_count": 21,
   "id": "b8e31960",
   "metadata": {},
   "outputs": [
    {
     "data": {
      "text/html": [
       "<div>\n",
       "<style scoped>\n",
       "    .dataframe tbody tr th:only-of-type {\n",
       "        vertical-align: middle;\n",
       "    }\n",
       "\n",
       "    .dataframe tbody tr th {\n",
       "        vertical-align: top;\n",
       "    }\n",
       "\n",
       "    .dataframe thead th {\n",
       "        text-align: right;\n",
       "    }\n",
       "</style>\n",
       "<table border=\"1\" class=\"dataframe\">\n",
       "  <thead>\n",
       "    <tr style=\"text-align: right;\">\n",
       "      <th></th>\n",
       "      <th>index</th>\n",
       "      <th>day</th>\n",
       "      <th>month</th>\n",
       "      <th>year</th>\n",
       "      <th>Temperature</th>\n",
       "      <th>RH</th>\n",
       "      <th>Ws</th>\n",
       "      <th>Rain</th>\n",
       "      <th>FFMC</th>\n",
       "      <th>DMC</th>\n",
       "      <th>DC</th>\n",
       "      <th>ISI</th>\n",
       "      <th>BUI</th>\n",
       "      <th>FWI</th>\n",
       "      <th>Classes</th>\n",
       "    </tr>\n",
       "  </thead>\n",
       "  <tbody>\n",
       "    <tr>\n",
       "      <th>0</th>\n",
       "      <td>0</td>\n",
       "      <td>01</td>\n",
       "      <td>06</td>\n",
       "      <td>2012</td>\n",
       "      <td>29</td>\n",
       "      <td>57</td>\n",
       "      <td>18</td>\n",
       "      <td>0</td>\n",
       "      <td>65.7</td>\n",
       "      <td>3.4</td>\n",
       "      <td>7.6</td>\n",
       "      <td>1.3</td>\n",
       "      <td>3.4</td>\n",
       "      <td>0.5</td>\n",
       "      <td>not fire</td>\n",
       "    </tr>\n",
       "    <tr>\n",
       "      <th>1</th>\n",
       "      <td>1</td>\n",
       "      <td>02</td>\n",
       "      <td>06</td>\n",
       "      <td>2012</td>\n",
       "      <td>29</td>\n",
       "      <td>61</td>\n",
       "      <td>13</td>\n",
       "      <td>1.3</td>\n",
       "      <td>64.4</td>\n",
       "      <td>4.1</td>\n",
       "      <td>7.6</td>\n",
       "      <td>1</td>\n",
       "      <td>3.9</td>\n",
       "      <td>0.4</td>\n",
       "      <td>not fire</td>\n",
       "    </tr>\n",
       "    <tr>\n",
       "      <th>2</th>\n",
       "      <td>2</td>\n",
       "      <td>03</td>\n",
       "      <td>06</td>\n",
       "      <td>2012</td>\n",
       "      <td>26</td>\n",
       "      <td>82</td>\n",
       "      <td>22</td>\n",
       "      <td>13.1</td>\n",
       "      <td>47.1</td>\n",
       "      <td>2.5</td>\n",
       "      <td>7.1</td>\n",
       "      <td>0.3</td>\n",
       "      <td>2.7</td>\n",
       "      <td>0.1</td>\n",
       "      <td>not fire</td>\n",
       "    </tr>\n",
       "    <tr>\n",
       "      <th>3</th>\n",
       "      <td>3</td>\n",
       "      <td>04</td>\n",
       "      <td>06</td>\n",
       "      <td>2012</td>\n",
       "      <td>25</td>\n",
       "      <td>89</td>\n",
       "      <td>13</td>\n",
       "      <td>2.5</td>\n",
       "      <td>28.6</td>\n",
       "      <td>1.3</td>\n",
       "      <td>6.9</td>\n",
       "      <td>0</td>\n",
       "      <td>1.7</td>\n",
       "      <td>0</td>\n",
       "      <td>not fire</td>\n",
       "    </tr>\n",
       "    <tr>\n",
       "      <th>4</th>\n",
       "      <td>4</td>\n",
       "      <td>05</td>\n",
       "      <td>06</td>\n",
       "      <td>2012</td>\n",
       "      <td>27</td>\n",
       "      <td>77</td>\n",
       "      <td>16</td>\n",
       "      <td>0</td>\n",
       "      <td>64.8</td>\n",
       "      <td>3</td>\n",
       "      <td>14.2</td>\n",
       "      <td>1.2</td>\n",
       "      <td>3.9</td>\n",
       "      <td>0.5</td>\n",
       "      <td>not fire</td>\n",
       "    </tr>\n",
       "    <tr>\n",
       "      <th>...</th>\n",
       "      <td>...</td>\n",
       "      <td>...</td>\n",
       "      <td>...</td>\n",
       "      <td>...</td>\n",
       "      <td>...</td>\n",
       "      <td>...</td>\n",
       "      <td>...</td>\n",
       "      <td>...</td>\n",
       "      <td>...</td>\n",
       "      <td>...</td>\n",
       "      <td>...</td>\n",
       "      <td>...</td>\n",
       "      <td>...</td>\n",
       "      <td>...</td>\n",
       "      <td>...</td>\n",
       "    </tr>\n",
       "    <tr>\n",
       "      <th>239</th>\n",
       "      <td>241</td>\n",
       "      <td>26</td>\n",
       "      <td>09</td>\n",
       "      <td>2012</td>\n",
       "      <td>30</td>\n",
       "      <td>65</td>\n",
       "      <td>14</td>\n",
       "      <td>0</td>\n",
       "      <td>85.4</td>\n",
       "      <td>16</td>\n",
       "      <td>44.5</td>\n",
       "      <td>4.5</td>\n",
       "      <td>16.9</td>\n",
       "      <td>6.5</td>\n",
       "      <td>fire</td>\n",
       "    </tr>\n",
       "    <tr>\n",
       "      <th>240</th>\n",
       "      <td>242</td>\n",
       "      <td>27</td>\n",
       "      <td>09</td>\n",
       "      <td>2012</td>\n",
       "      <td>28</td>\n",
       "      <td>87</td>\n",
       "      <td>15</td>\n",
       "      <td>4.4</td>\n",
       "      <td>41.1</td>\n",
       "      <td>6.5</td>\n",
       "      <td>8</td>\n",
       "      <td>0.1</td>\n",
       "      <td>6.2</td>\n",
       "      <td>0</td>\n",
       "      <td>not fire</td>\n",
       "    </tr>\n",
       "    <tr>\n",
       "      <th>241</th>\n",
       "      <td>243</td>\n",
       "      <td>28</td>\n",
       "      <td>09</td>\n",
       "      <td>2012</td>\n",
       "      <td>27</td>\n",
       "      <td>87</td>\n",
       "      <td>29</td>\n",
       "      <td>0.5</td>\n",
       "      <td>45.9</td>\n",
       "      <td>3.5</td>\n",
       "      <td>7.9</td>\n",
       "      <td>0.4</td>\n",
       "      <td>3.4</td>\n",
       "      <td>0.2</td>\n",
       "      <td>not fire</td>\n",
       "    </tr>\n",
       "    <tr>\n",
       "      <th>242</th>\n",
       "      <td>244</td>\n",
       "      <td>29</td>\n",
       "      <td>09</td>\n",
       "      <td>2012</td>\n",
       "      <td>24</td>\n",
       "      <td>54</td>\n",
       "      <td>18</td>\n",
       "      <td>0.1</td>\n",
       "      <td>79.7</td>\n",
       "      <td>4.3</td>\n",
       "      <td>15.2</td>\n",
       "      <td>1.7</td>\n",
       "      <td>5.1</td>\n",
       "      <td>0.7</td>\n",
       "      <td>not fire</td>\n",
       "    </tr>\n",
       "    <tr>\n",
       "      <th>243</th>\n",
       "      <td>245</td>\n",
       "      <td>30</td>\n",
       "      <td>09</td>\n",
       "      <td>2012</td>\n",
       "      <td>24</td>\n",
       "      <td>64</td>\n",
       "      <td>15</td>\n",
       "      <td>0.2</td>\n",
       "      <td>67.3</td>\n",
       "      <td>3.8</td>\n",
       "      <td>16.5</td>\n",
       "      <td>1.2</td>\n",
       "      <td>4.8</td>\n",
       "      <td>0.5</td>\n",
       "      <td>not fire</td>\n",
       "    </tr>\n",
       "  </tbody>\n",
       "</table>\n",
       "<p>244 rows × 15 columns</p>\n",
       "</div>"
      ],
      "text/plain": [
       "     index day month  year Temperature  RH  Ws Rain   FFMC  DMC    DC  ISI  \\\n",
       "0        0  01    06  2012          29  57  18     0  65.7  3.4   7.6  1.3   \n",
       "1        1  02    06  2012          29  61  13   1.3  64.4  4.1   7.6    1   \n",
       "2        2  03    06  2012          26  82  22  13.1  47.1  2.5   7.1  0.3   \n",
       "3        3  04    06  2012          25  89  13   2.5  28.6  1.3   6.9    0   \n",
       "4        4  05    06  2012          27  77  16     0  64.8    3  14.2  1.2   \n",
       "..     ...  ..   ...   ...         ...  ..  ..   ...   ...  ...   ...  ...   \n",
       "239    241  26    09  2012          30  65  14     0  85.4   16  44.5  4.5   \n",
       "240    242  27    09  2012          28  87  15   4.4  41.1  6.5     8  0.1   \n",
       "241    243  28    09  2012          27  87  29   0.5  45.9  3.5   7.9  0.4   \n",
       "242    244  29    09  2012          24  54  18   0.1  79.7  4.3  15.2  1.7   \n",
       "243    245  30    09  2012          24  64  15   0.2  67.3  3.8  16.5  1.2   \n",
       "\n",
       "      BUI  FWI     Classes    \n",
       "0     3.4  0.5   not fire     \n",
       "1     3.9  0.4   not fire     \n",
       "2     2.7  0.1   not fire     \n",
       "3     1.7    0   not fire     \n",
       "4     3.9  0.5   not fire     \n",
       "..    ...  ...           ...  \n",
       "239  16.9  6.5       fire     \n",
       "240   6.2    0   not fire     \n",
       "241   3.4  0.2   not fire     \n",
       "242   5.1  0.7   not fire     \n",
       "243   4.8  0.5  not fire      \n",
       "\n",
       "[244 rows x 15 columns]"
      ]
     },
     "execution_count": 21,
     "metadata": {},
     "output_type": "execute_result"
    }
   ],
   "source": [
    "df.drop(['region','Region'],axis=1)"
   ]
  },
  {
   "cell_type": "markdown",
   "id": "793813ea",
   "metadata": {},
   "source": [
    "Cross checking the dataset"
   ]
  },
  {
   "cell_type": "code",
   "execution_count": 23,
   "id": "0ed3c693",
   "metadata": {},
   "outputs": [
    {
     "name": "stdout",
     "output_type": "stream",
     "text": [
      "122\n",
      "122\n"
     ]
    }
   ],
   "source": [
    "l1=[]\n",
    "l2=[]\n",
    "for i in df['Region']:\n",
    "    if i==0:\n",
    "        l1.append(i)\n",
    "    else:\n",
    "        l2.append(i)\n",
    "print(len(l1))\n",
    "print(len(l2))"
   ]
  },
  {
   "cell_type": "code",
   "execution_count": 24,
   "id": "888165b8",
   "metadata": {},
   "outputs": [
    {
     "data": {
      "text/plain": [
       "Index(['index', 'day', 'month', 'year', 'Temperature', ' RH', ' Ws', 'Rain ',\n",
       "       'FFMC', 'DMC', 'DC', 'ISI', 'BUI', 'FWI', 'Classes  ', 'region',\n",
       "       'Region'],\n",
       "      dtype='object')"
      ]
     },
     "execution_count": 24,
     "metadata": {},
     "output_type": "execute_result"
    }
   ],
   "source": [
    "df.columns"
   ]
  },
  {
   "cell_type": "code",
   "execution_count": 25,
   "id": "04a4a77b",
   "metadata": {},
   "outputs": [
    {
     "data": {
      "text/html": [
       "<div>\n",
       "<style scoped>\n",
       "    .dataframe tbody tr th:only-of-type {\n",
       "        vertical-align: middle;\n",
       "    }\n",
       "\n",
       "    .dataframe tbody tr th {\n",
       "        vertical-align: top;\n",
       "    }\n",
       "\n",
       "    .dataframe thead th {\n",
       "        text-align: right;\n",
       "    }\n",
       "</style>\n",
       "<table border=\"1\" class=\"dataframe\">\n",
       "  <thead>\n",
       "    <tr style=\"text-align: right;\">\n",
       "      <th></th>\n",
       "      <th>index</th>\n",
       "      <th>day</th>\n",
       "      <th>month</th>\n",
       "      <th>year</th>\n",
       "      <th>Temperature</th>\n",
       "      <th>RH</th>\n",
       "      <th>Ws</th>\n",
       "      <th>Rain</th>\n",
       "      <th>FFMC</th>\n",
       "      <th>DMC</th>\n",
       "      <th>DC</th>\n",
       "      <th>ISI</th>\n",
       "      <th>BUI</th>\n",
       "      <th>FWI</th>\n",
       "      <th>Classes</th>\n",
       "      <th>region</th>\n",
       "      <th>Region</th>\n",
       "    </tr>\n",
       "  </thead>\n",
       "  <tbody>\n",
       "    <tr>\n",
       "      <th>0</th>\n",
       "      <td>0</td>\n",
       "      <td>01</td>\n",
       "      <td>06</td>\n",
       "      <td>2012</td>\n",
       "      <td>29</td>\n",
       "      <td>57</td>\n",
       "      <td>18</td>\n",
       "      <td>0</td>\n",
       "      <td>65.7</td>\n",
       "      <td>3.4</td>\n",
       "      <td>7.6</td>\n",
       "      <td>1.3</td>\n",
       "      <td>3.4</td>\n",
       "      <td>0.5</td>\n",
       "      <td>not fire</td>\n",
       "      <td>0</td>\n",
       "      <td>0</td>\n",
       "    </tr>\n",
       "    <tr>\n",
       "      <th>1</th>\n",
       "      <td>1</td>\n",
       "      <td>02</td>\n",
       "      <td>06</td>\n",
       "      <td>2012</td>\n",
       "      <td>29</td>\n",
       "      <td>61</td>\n",
       "      <td>13</td>\n",
       "      <td>1.3</td>\n",
       "      <td>64.4</td>\n",
       "      <td>4.1</td>\n",
       "      <td>7.6</td>\n",
       "      <td>1</td>\n",
       "      <td>3.9</td>\n",
       "      <td>0.4</td>\n",
       "      <td>not fire</td>\n",
       "      <td>0</td>\n",
       "      <td>0</td>\n",
       "    </tr>\n",
       "    <tr>\n",
       "      <th>2</th>\n",
       "      <td>2</td>\n",
       "      <td>03</td>\n",
       "      <td>06</td>\n",
       "      <td>2012</td>\n",
       "      <td>26</td>\n",
       "      <td>82</td>\n",
       "      <td>22</td>\n",
       "      <td>13.1</td>\n",
       "      <td>47.1</td>\n",
       "      <td>2.5</td>\n",
       "      <td>7.1</td>\n",
       "      <td>0.3</td>\n",
       "      <td>2.7</td>\n",
       "      <td>0.1</td>\n",
       "      <td>not fire</td>\n",
       "      <td>0</td>\n",
       "      <td>0</td>\n",
       "    </tr>\n",
       "    <tr>\n",
       "      <th>3</th>\n",
       "      <td>3</td>\n",
       "      <td>04</td>\n",
       "      <td>06</td>\n",
       "      <td>2012</td>\n",
       "      <td>25</td>\n",
       "      <td>89</td>\n",
       "      <td>13</td>\n",
       "      <td>2.5</td>\n",
       "      <td>28.6</td>\n",
       "      <td>1.3</td>\n",
       "      <td>6.9</td>\n",
       "      <td>0</td>\n",
       "      <td>1.7</td>\n",
       "      <td>0</td>\n",
       "      <td>not fire</td>\n",
       "      <td>0</td>\n",
       "      <td>0</td>\n",
       "    </tr>\n",
       "    <tr>\n",
       "      <th>4</th>\n",
       "      <td>4</td>\n",
       "      <td>05</td>\n",
       "      <td>06</td>\n",
       "      <td>2012</td>\n",
       "      <td>27</td>\n",
       "      <td>77</td>\n",
       "      <td>16</td>\n",
       "      <td>0</td>\n",
       "      <td>64.8</td>\n",
       "      <td>3</td>\n",
       "      <td>14.2</td>\n",
       "      <td>1.2</td>\n",
       "      <td>3.9</td>\n",
       "      <td>0.5</td>\n",
       "      <td>not fire</td>\n",
       "      <td>0</td>\n",
       "      <td>0</td>\n",
       "    </tr>\n",
       "    <tr>\n",
       "      <th>...</th>\n",
       "      <td>...</td>\n",
       "      <td>...</td>\n",
       "      <td>...</td>\n",
       "      <td>...</td>\n",
       "      <td>...</td>\n",
       "      <td>...</td>\n",
       "      <td>...</td>\n",
       "      <td>...</td>\n",
       "      <td>...</td>\n",
       "      <td>...</td>\n",
       "      <td>...</td>\n",
       "      <td>...</td>\n",
       "      <td>...</td>\n",
       "      <td>...</td>\n",
       "      <td>...</td>\n",
       "      <td>...</td>\n",
       "      <td>...</td>\n",
       "    </tr>\n",
       "    <tr>\n",
       "      <th>239</th>\n",
       "      <td>241</td>\n",
       "      <td>26</td>\n",
       "      <td>09</td>\n",
       "      <td>2012</td>\n",
       "      <td>30</td>\n",
       "      <td>65</td>\n",
       "      <td>14</td>\n",
       "      <td>0</td>\n",
       "      <td>85.4</td>\n",
       "      <td>16</td>\n",
       "      <td>44.5</td>\n",
       "      <td>4.5</td>\n",
       "      <td>16.9</td>\n",
       "      <td>6.5</td>\n",
       "      <td>fire</td>\n",
       "      <td>0</td>\n",
       "      <td>1</td>\n",
       "    </tr>\n",
       "    <tr>\n",
       "      <th>240</th>\n",
       "      <td>242</td>\n",
       "      <td>27</td>\n",
       "      <td>09</td>\n",
       "      <td>2012</td>\n",
       "      <td>28</td>\n",
       "      <td>87</td>\n",
       "      <td>15</td>\n",
       "      <td>4.4</td>\n",
       "      <td>41.1</td>\n",
       "      <td>6.5</td>\n",
       "      <td>8</td>\n",
       "      <td>0.1</td>\n",
       "      <td>6.2</td>\n",
       "      <td>0</td>\n",
       "      <td>not fire</td>\n",
       "      <td>0</td>\n",
       "      <td>1</td>\n",
       "    </tr>\n",
       "    <tr>\n",
       "      <th>241</th>\n",
       "      <td>243</td>\n",
       "      <td>28</td>\n",
       "      <td>09</td>\n",
       "      <td>2012</td>\n",
       "      <td>27</td>\n",
       "      <td>87</td>\n",
       "      <td>29</td>\n",
       "      <td>0.5</td>\n",
       "      <td>45.9</td>\n",
       "      <td>3.5</td>\n",
       "      <td>7.9</td>\n",
       "      <td>0.4</td>\n",
       "      <td>3.4</td>\n",
       "      <td>0.2</td>\n",
       "      <td>not fire</td>\n",
       "      <td>0</td>\n",
       "      <td>1</td>\n",
       "    </tr>\n",
       "    <tr>\n",
       "      <th>242</th>\n",
       "      <td>244</td>\n",
       "      <td>29</td>\n",
       "      <td>09</td>\n",
       "      <td>2012</td>\n",
       "      <td>24</td>\n",
       "      <td>54</td>\n",
       "      <td>18</td>\n",
       "      <td>0.1</td>\n",
       "      <td>79.7</td>\n",
       "      <td>4.3</td>\n",
       "      <td>15.2</td>\n",
       "      <td>1.7</td>\n",
       "      <td>5.1</td>\n",
       "      <td>0.7</td>\n",
       "      <td>not fire</td>\n",
       "      <td>0</td>\n",
       "      <td>1</td>\n",
       "    </tr>\n",
       "    <tr>\n",
       "      <th>243</th>\n",
       "      <td>245</td>\n",
       "      <td>30</td>\n",
       "      <td>09</td>\n",
       "      <td>2012</td>\n",
       "      <td>24</td>\n",
       "      <td>64</td>\n",
       "      <td>15</td>\n",
       "      <td>0.2</td>\n",
       "      <td>67.3</td>\n",
       "      <td>3.8</td>\n",
       "      <td>16.5</td>\n",
       "      <td>1.2</td>\n",
       "      <td>4.8</td>\n",
       "      <td>0.5</td>\n",
       "      <td>not fire</td>\n",
       "      <td>0</td>\n",
       "      <td>1</td>\n",
       "    </tr>\n",
       "  </tbody>\n",
       "</table>\n",
       "<p>244 rows × 17 columns</p>\n",
       "</div>"
      ],
      "text/plain": [
       "     index day month  year Temperature  RH  Ws Rain   FFMC  DMC    DC  ISI  \\\n",
       "0        0  01    06  2012          29  57  18     0  65.7  3.4   7.6  1.3   \n",
       "1        1  02    06  2012          29  61  13   1.3  64.4  4.1   7.6    1   \n",
       "2        2  03    06  2012          26  82  22  13.1  47.1  2.5   7.1  0.3   \n",
       "3        3  04    06  2012          25  89  13   2.5  28.6  1.3   6.9    0   \n",
       "4        4  05    06  2012          27  77  16     0  64.8    3  14.2  1.2   \n",
       "..     ...  ..   ...   ...         ...  ..  ..   ...   ...  ...   ...  ...   \n",
       "239    241  26    09  2012          30  65  14     0  85.4   16  44.5  4.5   \n",
       "240    242  27    09  2012          28  87  15   4.4  41.1  6.5     8  0.1   \n",
       "241    243  28    09  2012          27  87  29   0.5  45.9  3.5   7.9  0.4   \n",
       "242    244  29    09  2012          24  54  18   0.1  79.7  4.3  15.2  1.7   \n",
       "243    245  30    09  2012          24  64  15   0.2  67.3  3.8  16.5  1.2   \n",
       "\n",
       "      BUI  FWI     Classes    region  Region  \n",
       "0     3.4  0.5   not fire          0       0  \n",
       "1     3.9  0.4   not fire          0       0  \n",
       "2     2.7  0.1   not fire          0       0  \n",
       "3     1.7    0   not fire          0       0  \n",
       "4     3.9  0.5   not fire          0       0  \n",
       "..    ...  ...           ...     ...     ...  \n",
       "239  16.9  6.5       fire          0       1  \n",
       "240   6.2    0   not fire          0       1  \n",
       "241   3.4  0.2   not fire          0       1  \n",
       "242   5.1  0.7   not fire          0       1  \n",
       "243   4.8  0.5  not fire           0       1  \n",
       "\n",
       "[244 rows x 17 columns]"
      ]
     },
     "execution_count": 25,
     "metadata": {},
     "output_type": "execute_result"
    }
   ],
   "source": [
    "df"
   ]
  },
  {
   "cell_type": "code",
   "execution_count": 29,
   "id": "db351896",
   "metadata": {},
   "outputs": [],
   "source": [
    "df1=df.drop('region',axis=1)"
   ]
  },
  {
   "cell_type": "code",
   "execution_count": 30,
   "id": "88a7195f",
   "metadata": {},
   "outputs": [
    {
     "data": {
      "text/html": [
       "<div>\n",
       "<style scoped>\n",
       "    .dataframe tbody tr th:only-of-type {\n",
       "        vertical-align: middle;\n",
       "    }\n",
       "\n",
       "    .dataframe tbody tr th {\n",
       "        vertical-align: top;\n",
       "    }\n",
       "\n",
       "    .dataframe thead th {\n",
       "        text-align: right;\n",
       "    }\n",
       "</style>\n",
       "<table border=\"1\" class=\"dataframe\">\n",
       "  <thead>\n",
       "    <tr style=\"text-align: right;\">\n",
       "      <th></th>\n",
       "      <th>index</th>\n",
       "      <th>day</th>\n",
       "      <th>month</th>\n",
       "      <th>year</th>\n",
       "      <th>Temperature</th>\n",
       "      <th>RH</th>\n",
       "      <th>Ws</th>\n",
       "      <th>Rain</th>\n",
       "      <th>FFMC</th>\n",
       "      <th>DMC</th>\n",
       "      <th>DC</th>\n",
       "      <th>ISI</th>\n",
       "      <th>BUI</th>\n",
       "      <th>FWI</th>\n",
       "      <th>Classes</th>\n",
       "      <th>Region</th>\n",
       "    </tr>\n",
       "  </thead>\n",
       "  <tbody>\n",
       "    <tr>\n",
       "      <th>0</th>\n",
       "      <td>0</td>\n",
       "      <td>01</td>\n",
       "      <td>06</td>\n",
       "      <td>2012</td>\n",
       "      <td>29</td>\n",
       "      <td>57</td>\n",
       "      <td>18</td>\n",
       "      <td>0</td>\n",
       "      <td>65.7</td>\n",
       "      <td>3.4</td>\n",
       "      <td>7.6</td>\n",
       "      <td>1.3</td>\n",
       "      <td>3.4</td>\n",
       "      <td>0.5</td>\n",
       "      <td>not fire</td>\n",
       "      <td>0</td>\n",
       "    </tr>\n",
       "    <tr>\n",
       "      <th>1</th>\n",
       "      <td>1</td>\n",
       "      <td>02</td>\n",
       "      <td>06</td>\n",
       "      <td>2012</td>\n",
       "      <td>29</td>\n",
       "      <td>61</td>\n",
       "      <td>13</td>\n",
       "      <td>1.3</td>\n",
       "      <td>64.4</td>\n",
       "      <td>4.1</td>\n",
       "      <td>7.6</td>\n",
       "      <td>1</td>\n",
       "      <td>3.9</td>\n",
       "      <td>0.4</td>\n",
       "      <td>not fire</td>\n",
       "      <td>0</td>\n",
       "    </tr>\n",
       "    <tr>\n",
       "      <th>2</th>\n",
       "      <td>2</td>\n",
       "      <td>03</td>\n",
       "      <td>06</td>\n",
       "      <td>2012</td>\n",
       "      <td>26</td>\n",
       "      <td>82</td>\n",
       "      <td>22</td>\n",
       "      <td>13.1</td>\n",
       "      <td>47.1</td>\n",
       "      <td>2.5</td>\n",
       "      <td>7.1</td>\n",
       "      <td>0.3</td>\n",
       "      <td>2.7</td>\n",
       "      <td>0.1</td>\n",
       "      <td>not fire</td>\n",
       "      <td>0</td>\n",
       "    </tr>\n",
       "    <tr>\n",
       "      <th>3</th>\n",
       "      <td>3</td>\n",
       "      <td>04</td>\n",
       "      <td>06</td>\n",
       "      <td>2012</td>\n",
       "      <td>25</td>\n",
       "      <td>89</td>\n",
       "      <td>13</td>\n",
       "      <td>2.5</td>\n",
       "      <td>28.6</td>\n",
       "      <td>1.3</td>\n",
       "      <td>6.9</td>\n",
       "      <td>0</td>\n",
       "      <td>1.7</td>\n",
       "      <td>0</td>\n",
       "      <td>not fire</td>\n",
       "      <td>0</td>\n",
       "    </tr>\n",
       "    <tr>\n",
       "      <th>4</th>\n",
       "      <td>4</td>\n",
       "      <td>05</td>\n",
       "      <td>06</td>\n",
       "      <td>2012</td>\n",
       "      <td>27</td>\n",
       "      <td>77</td>\n",
       "      <td>16</td>\n",
       "      <td>0</td>\n",
       "      <td>64.8</td>\n",
       "      <td>3</td>\n",
       "      <td>14.2</td>\n",
       "      <td>1.2</td>\n",
       "      <td>3.9</td>\n",
       "      <td>0.5</td>\n",
       "      <td>not fire</td>\n",
       "      <td>0</td>\n",
       "    </tr>\n",
       "    <tr>\n",
       "      <th>...</th>\n",
       "      <td>...</td>\n",
       "      <td>...</td>\n",
       "      <td>...</td>\n",
       "      <td>...</td>\n",
       "      <td>...</td>\n",
       "      <td>...</td>\n",
       "      <td>...</td>\n",
       "      <td>...</td>\n",
       "      <td>...</td>\n",
       "      <td>...</td>\n",
       "      <td>...</td>\n",
       "      <td>...</td>\n",
       "      <td>...</td>\n",
       "      <td>...</td>\n",
       "      <td>...</td>\n",
       "      <td>...</td>\n",
       "    </tr>\n",
       "    <tr>\n",
       "      <th>239</th>\n",
       "      <td>241</td>\n",
       "      <td>26</td>\n",
       "      <td>09</td>\n",
       "      <td>2012</td>\n",
       "      <td>30</td>\n",
       "      <td>65</td>\n",
       "      <td>14</td>\n",
       "      <td>0</td>\n",
       "      <td>85.4</td>\n",
       "      <td>16</td>\n",
       "      <td>44.5</td>\n",
       "      <td>4.5</td>\n",
       "      <td>16.9</td>\n",
       "      <td>6.5</td>\n",
       "      <td>fire</td>\n",
       "      <td>1</td>\n",
       "    </tr>\n",
       "    <tr>\n",
       "      <th>240</th>\n",
       "      <td>242</td>\n",
       "      <td>27</td>\n",
       "      <td>09</td>\n",
       "      <td>2012</td>\n",
       "      <td>28</td>\n",
       "      <td>87</td>\n",
       "      <td>15</td>\n",
       "      <td>4.4</td>\n",
       "      <td>41.1</td>\n",
       "      <td>6.5</td>\n",
       "      <td>8</td>\n",
       "      <td>0.1</td>\n",
       "      <td>6.2</td>\n",
       "      <td>0</td>\n",
       "      <td>not fire</td>\n",
       "      <td>1</td>\n",
       "    </tr>\n",
       "    <tr>\n",
       "      <th>241</th>\n",
       "      <td>243</td>\n",
       "      <td>28</td>\n",
       "      <td>09</td>\n",
       "      <td>2012</td>\n",
       "      <td>27</td>\n",
       "      <td>87</td>\n",
       "      <td>29</td>\n",
       "      <td>0.5</td>\n",
       "      <td>45.9</td>\n",
       "      <td>3.5</td>\n",
       "      <td>7.9</td>\n",
       "      <td>0.4</td>\n",
       "      <td>3.4</td>\n",
       "      <td>0.2</td>\n",
       "      <td>not fire</td>\n",
       "      <td>1</td>\n",
       "    </tr>\n",
       "    <tr>\n",
       "      <th>242</th>\n",
       "      <td>244</td>\n",
       "      <td>29</td>\n",
       "      <td>09</td>\n",
       "      <td>2012</td>\n",
       "      <td>24</td>\n",
       "      <td>54</td>\n",
       "      <td>18</td>\n",
       "      <td>0.1</td>\n",
       "      <td>79.7</td>\n",
       "      <td>4.3</td>\n",
       "      <td>15.2</td>\n",
       "      <td>1.7</td>\n",
       "      <td>5.1</td>\n",
       "      <td>0.7</td>\n",
       "      <td>not fire</td>\n",
       "      <td>1</td>\n",
       "    </tr>\n",
       "    <tr>\n",
       "      <th>243</th>\n",
       "      <td>245</td>\n",
       "      <td>30</td>\n",
       "      <td>09</td>\n",
       "      <td>2012</td>\n",
       "      <td>24</td>\n",
       "      <td>64</td>\n",
       "      <td>15</td>\n",
       "      <td>0.2</td>\n",
       "      <td>67.3</td>\n",
       "      <td>3.8</td>\n",
       "      <td>16.5</td>\n",
       "      <td>1.2</td>\n",
       "      <td>4.8</td>\n",
       "      <td>0.5</td>\n",
       "      <td>not fire</td>\n",
       "      <td>1</td>\n",
       "    </tr>\n",
       "  </tbody>\n",
       "</table>\n",
       "<p>244 rows × 16 columns</p>\n",
       "</div>"
      ],
      "text/plain": [
       "     index day month  year Temperature  RH  Ws Rain   FFMC  DMC    DC  ISI  \\\n",
       "0        0  01    06  2012          29  57  18     0  65.7  3.4   7.6  1.3   \n",
       "1        1  02    06  2012          29  61  13   1.3  64.4  4.1   7.6    1   \n",
       "2        2  03    06  2012          26  82  22  13.1  47.1  2.5   7.1  0.3   \n",
       "3        3  04    06  2012          25  89  13   2.5  28.6  1.3   6.9    0   \n",
       "4        4  05    06  2012          27  77  16     0  64.8    3  14.2  1.2   \n",
       "..     ...  ..   ...   ...         ...  ..  ..   ...   ...  ...   ...  ...   \n",
       "239    241  26    09  2012          30  65  14     0  85.4   16  44.5  4.5   \n",
       "240    242  27    09  2012          28  87  15   4.4  41.1  6.5     8  0.1   \n",
       "241    243  28    09  2012          27  87  29   0.5  45.9  3.5   7.9  0.4   \n",
       "242    244  29    09  2012          24  54  18   0.1  79.7  4.3  15.2  1.7   \n",
       "243    245  30    09  2012          24  64  15   0.2  67.3  3.8  16.5  1.2   \n",
       "\n",
       "      BUI  FWI     Classes    Region  \n",
       "0     3.4  0.5   not fire          0  \n",
       "1     3.9  0.4   not fire          0  \n",
       "2     2.7  0.1   not fire          0  \n",
       "3     1.7    0   not fire          0  \n",
       "4     3.9  0.5   not fire          0  \n",
       "..    ...  ...           ...     ...  \n",
       "239  16.9  6.5       fire          1  \n",
       "240   6.2    0   not fire          1  \n",
       "241   3.4  0.2   not fire          1  \n",
       "242   5.1  0.7   not fire          1  \n",
       "243   4.8  0.5  not fire           1  \n",
       "\n",
       "[244 rows x 16 columns]"
      ]
     },
     "execution_count": 30,
     "metadata": {},
     "output_type": "execute_result"
    }
   ],
   "source": [
    "df1"
   ]
  },
  {
   "cell_type": "code",
   "execution_count": 31,
   "id": "5d79a097",
   "metadata": {},
   "outputs": [
    {
     "data": {
      "text/plain": [
       "Index(['index', 'day', 'month', 'year', 'Temperature', ' RH', ' Ws', 'Rain ',\n",
       "       'FFMC', 'DMC', 'DC', 'ISI', 'BUI', 'FWI', 'Classes  ', 'Region'],\n",
       "      dtype='object')"
      ]
     },
     "execution_count": 31,
     "metadata": {},
     "output_type": "execute_result"
    }
   ],
   "source": [
    "df1.columns"
   ]
  },
  {
   "cell_type": "markdown",
   "id": "29c6b30f",
   "metadata": {},
   "source": [
    "# Removing Extra spaces from column"
   ]
  },
  {
   "cell_type": "code",
   "execution_count": 34,
   "id": "60c9b2f3",
   "metadata": {},
   "outputs": [
    {
     "name": "stdout",
     "output_type": "stream",
     "text": [
      "Index(['index', 'day', 'month', 'year', 'Temperature', 'RH', 'Ws', 'Rain',\n",
      "       'FFMC', 'DMC', 'DC', 'ISI', 'BUI', 'FWI', 'Classes', 'Region'],\n",
      "      dtype='object')\n"
     ]
    }
   ],
   "source": [
    "for col in df1.columns:\n",
    "    df1.rename(columns={col:col.strip()},inplace=True)\n",
    "print(df1.columns)"
   ]
  },
  {
   "cell_type": "markdown",
   "id": "860bc2a2",
   "metadata": {},
   "source": [
    "# Record at mis match position "
   ]
  },
  {
   "cell_type": "code",
   "execution_count": 37,
   "id": "c5817918",
   "metadata": {},
   "outputs": [
    {
     "data": {
      "text/plain": [
       "index              167\n",
       "day                 14\n",
       "month               07\n",
       "year              2012\n",
       "Temperature         37\n",
       "RH                  37\n",
       "Ws                  18\n",
       "Rain               0.2\n",
       "FFMC              88.9\n",
       "DMC               12.9\n",
       "DC              14.6 9\n",
       "ISI               12.5\n",
       "BUI               10.4\n",
       "FWI            fire   \n",
       "Classes            NaN\n",
       "Region               1\n",
       "Name: 165, dtype: object"
      ]
     },
     "execution_count": 37,
     "metadata": {},
     "output_type": "execute_result"
    }
   ],
   "source": [
    "df1.iloc[165]"
   ]
  },
  {
   "cell_type": "code",
   "execution_count": 38,
   "id": "f8aa8f4d",
   "metadata": {},
   "outputs": [],
   "source": [
    "df1.at[165,'DC']=14.6\n",
    "df1.at[165,'ISI']=9\n",
    "df1.at[165,'BUI']=12.5\n",
    "df1.at[165,'FWI']=10.4\n",
    "df1.at[165,'Classes']='fire'"
   ]
  },
  {
   "cell_type": "code",
   "execution_count": 39,
   "id": "09cba6d0",
   "metadata": {},
   "outputs": [
    {
     "data": {
      "text/plain": [
       "index           167\n",
       "day              14\n",
       "month            07\n",
       "year           2012\n",
       "Temperature      37\n",
       "RH               37\n",
       "Ws               18\n",
       "Rain            0.2\n",
       "FFMC           88.9\n",
       "DMC            12.9\n",
       "DC             14.6\n",
       "ISI               9\n",
       "BUI            12.5\n",
       "FWI            10.4\n",
       "Classes        fire\n",
       "Region            1\n",
       "Name: 165, dtype: object"
      ]
     },
     "execution_count": 39,
     "metadata": {},
     "output_type": "execute_result"
    }
   ],
   "source": [
    "df1.iloc[165]"
   ]
  },
  {
   "cell_type": "markdown",
   "id": "576ed512",
   "metadata": {},
   "source": [
    "# checking the datatyp of columns and changing it correctly"
   ]
  },
  {
   "cell_type": "code",
   "execution_count": 40,
   "id": "f0d82f9b",
   "metadata": {},
   "outputs": [
    {
     "name": "stdout",
     "output_type": "stream",
     "text": [
      "<class 'pandas.core.frame.DataFrame'>\n",
      "RangeIndex: 244 entries, 0 to 243\n",
      "Data columns (total 16 columns):\n",
      " #   Column       Non-Null Count  Dtype \n",
      "---  ------       --------------  ----- \n",
      " 0   index        244 non-null    int64 \n",
      " 1   day          244 non-null    object\n",
      " 2   month        244 non-null    object\n",
      " 3   year         244 non-null    object\n",
      " 4   Temperature  244 non-null    object\n",
      " 5   RH           244 non-null    object\n",
      " 6   Ws           244 non-null    object\n",
      " 7   Rain         244 non-null    object\n",
      " 8   FFMC         244 non-null    object\n",
      " 9   DMC          244 non-null    object\n",
      " 10  DC           244 non-null    object\n",
      " 11  ISI          244 non-null    object\n",
      " 12  BUI          244 non-null    object\n",
      " 13  FWI          244 non-null    object\n",
      " 14  Classes      244 non-null    object\n",
      " 15  Region       244 non-null    int64 \n",
      "dtypes: int64(2), object(14)\n",
      "memory usage: 30.6+ KB\n"
     ]
    }
   ],
   "source": [
    "df1.info()"
   ]
  },
  {
   "cell_type": "code",
   "execution_count": 42,
   "id": "aa557e71",
   "metadata": {},
   "outputs": [],
   "source": [
    "df1[['day','month','year','Temperature','RH','Ws']]=df1[['day','month','year','Temperature','RH','Ws']].astype(int)"
   ]
  },
  {
   "cell_type": "code",
   "execution_count": 43,
   "id": "56100548",
   "metadata": {},
   "outputs": [
    {
     "name": "stdout",
     "output_type": "stream",
     "text": [
      "<class 'pandas.core.frame.DataFrame'>\n",
      "RangeIndex: 244 entries, 0 to 243\n",
      "Data columns (total 16 columns):\n",
      " #   Column       Non-Null Count  Dtype \n",
      "---  ------       --------------  ----- \n",
      " 0   index        244 non-null    int64 \n",
      " 1   day          244 non-null    int32 \n",
      " 2   month        244 non-null    int32 \n",
      " 3   year         244 non-null    int32 \n",
      " 4   Temperature  244 non-null    int32 \n",
      " 5   RH           244 non-null    int32 \n",
      " 6   Ws           244 non-null    int32 \n",
      " 7   Rain         244 non-null    object\n",
      " 8   FFMC         244 non-null    object\n",
      " 9   DMC          244 non-null    object\n",
      " 10  DC           244 non-null    object\n",
      " 11  ISI          244 non-null    object\n",
      " 12  BUI          244 non-null    object\n",
      " 13  FWI          244 non-null    object\n",
      " 14  Classes      244 non-null    object\n",
      " 15  Region       244 non-null    int64 \n",
      "dtypes: int32(6), int64(2), object(8)\n",
      "memory usage: 24.9+ KB\n"
     ]
    }
   ],
   "source": [
    "df1.info()"
   ]
  },
  {
   "cell_type": "code",
   "execution_count": 44,
   "id": "c1fba4c1",
   "metadata": {},
   "outputs": [],
   "source": [
    "df1[['Rain','FFMC','DMC','DC','ISI','BUI','FWI']]=df1[['Rain','FFMC','DMC','DC','ISI','BUI','FWI']].astype(float)"
   ]
  },
  {
   "cell_type": "code",
   "execution_count": 45,
   "id": "ce3e6e40",
   "metadata": {},
   "outputs": [
    {
     "data": {
      "text/plain": [
       "index            int64\n",
       "day              int32\n",
       "month            int32\n",
       "year             int32\n",
       "Temperature      int32\n",
       "RH               int32\n",
       "Ws               int32\n",
       "Rain           float64\n",
       "FFMC           float64\n",
       "DMC            float64\n",
       "DC             float64\n",
       "ISI            float64\n",
       "BUI            float64\n",
       "FWI            float64\n",
       "Classes         object\n",
       "Region           int64\n",
       "dtype: object"
      ]
     },
     "execution_count": 45,
     "metadata": {},
     "output_type": "execute_result"
    }
   ],
   "source": [
    "df1.dtypes"
   ]
  },
  {
   "cell_type": "markdown",
   "id": "4f162223",
   "metadata": {},
   "source": [
    "# check how many unique categories we have in classes column"
   ]
  },
  {
   "cell_type": "code",
   "execution_count": 56,
   "id": "39ba2ce4",
   "metadata": {},
   "outputs": [
    {
     "data": {
      "text/plain": [
       "array(['not fire   ', 'fire   ', 'fire', 'fire ', 'not fire', 'not fire ',\n",
       "       'not fire     ', 'not fire    '], dtype=object)"
      ]
     },
     "execution_count": 56,
     "metadata": {},
     "output_type": "execute_result"
    }
   ],
   "source": [
    "df1['Classes'].unique()"
   ]
  },
  {
   "cell_type": "code",
   "execution_count": 57,
   "id": "e15ea6f6",
   "metadata": {},
   "outputs": [
    {
     "ename": "AttributeError",
     "evalue": "'float' object has no attribute 'strip'",
     "output_type": "error",
     "traceback": [
      "\u001b[1;31m---------------------------------------------------------------------------\u001b[0m",
      "\u001b[1;31mAttributeError\u001b[0m                            Traceback (most recent call last)",
      "Input \u001b[1;32mIn [57]\u001b[0m, in \u001b[0;36m<cell line: 2>\u001b[1;34m()\u001b[0m\n\u001b[0;32m      1\u001b[0m \u001b[38;5;66;03m## removing extra spaces\u001b[39;00m\n\u001b[1;32m----> 2\u001b[0m df1[\u001b[38;5;124m'\u001b[39m\u001b[38;5;124mClasses\u001b[39m\u001b[38;5;124m'\u001b[39m]\u001b[38;5;241m=\u001b[39m[i\u001b[38;5;241m.\u001b[39mstrip() \u001b[38;5;28;01mfor\u001b[39;00m i \u001b[38;5;129;01min\u001b[39;00m df[\u001b[38;5;124m'\u001b[39m\u001b[38;5;124mClasses\u001b[39m\u001b[38;5;124m'\u001b[39m]]\n",
      "Input \u001b[1;32mIn [57]\u001b[0m, in \u001b[0;36m<listcomp>\u001b[1;34m(.0)\u001b[0m\n\u001b[0;32m      1\u001b[0m \u001b[38;5;66;03m## removing extra spaces\u001b[39;00m\n\u001b[1;32m----> 2\u001b[0m df1[\u001b[38;5;124m'\u001b[39m\u001b[38;5;124mClasses\u001b[39m\u001b[38;5;124m'\u001b[39m]\u001b[38;5;241m=\u001b[39m[\u001b[43mi\u001b[49m\u001b[38;5;241;43m.\u001b[39;49m\u001b[43mstrip\u001b[49m() \u001b[38;5;28;01mfor\u001b[39;00m i \u001b[38;5;129;01min\u001b[39;00m df[\u001b[38;5;124m'\u001b[39m\u001b[38;5;124mClasses\u001b[39m\u001b[38;5;124m'\u001b[39m]]\n",
      "\u001b[1;31mAttributeError\u001b[0m: 'float' object has no attribute 'strip'"
     ]
    }
   ],
   "source": []
  },
  {
   "cell_type": "code",
   "execution_count": 58,
   "id": "2d39390f",
   "metadata": {},
   "outputs": [],
   "source": [
    "df1['Classes']=df1['Classes'].astype(str)"
   ]
  },
  {
   "cell_type": "code",
   "execution_count": 61,
   "id": "4954c7bc",
   "metadata": {},
   "outputs": [],
   "source": [
    "## removing extra spaces\n",
    "df1['Classes']=[i.strip() for i in df1['Classes']]"
   ]
  },
  {
   "cell_type": "code",
   "execution_count": 62,
   "id": "be5260c1",
   "metadata": {},
   "outputs": [
    {
     "data": {
      "text/plain": [
       "array(['not fire', 'fire'], dtype=object)"
      ]
     },
     "execution_count": 62,
     "metadata": {},
     "output_type": "execute_result"
    }
   ],
   "source": [
    "df1['Classes'].unique()"
   ]
  },
  {
   "cell_type": "markdown",
   "id": "7df792a2",
   "metadata": {},
   "source": [
    "# Shape of data"
   ]
  },
  {
   "cell_type": "code",
   "execution_count": 66,
   "id": "f7823df4",
   "metadata": {},
   "outputs": [
    {
     "data": {
      "text/plain": [
       "(244, 15)"
      ]
     },
     "execution_count": 66,
     "metadata": {},
     "output_type": "execute_result"
    }
   ],
   "source": [
    "df1.drop(['index'],axis=1,inplace=True)\n",
    "df1.shape"
   ]
  },
  {
   "cell_type": "markdown",
   "id": "97f860c5",
   "metadata": {},
   "source": [
    "# Summary of Data"
   ]
  },
  {
   "cell_type": "code",
   "execution_count": 67,
   "id": "50c20b9e",
   "metadata": {},
   "outputs": [
    {
     "data": {
      "text/html": [
       "<div>\n",
       "<style scoped>\n",
       "    .dataframe tbody tr th:only-of-type {\n",
       "        vertical-align: middle;\n",
       "    }\n",
       "\n",
       "    .dataframe tbody tr th {\n",
       "        vertical-align: top;\n",
       "    }\n",
       "\n",
       "    .dataframe thead th {\n",
       "        text-align: right;\n",
       "    }\n",
       "</style>\n",
       "<table border=\"1\" class=\"dataframe\">\n",
       "  <thead>\n",
       "    <tr style=\"text-align: right;\">\n",
       "      <th></th>\n",
       "      <th>count</th>\n",
       "      <th>mean</th>\n",
       "      <th>std</th>\n",
       "      <th>min</th>\n",
       "      <th>25%</th>\n",
       "      <th>50%</th>\n",
       "      <th>75%</th>\n",
       "      <th>max</th>\n",
       "    </tr>\n",
       "  </thead>\n",
       "  <tbody>\n",
       "    <tr>\n",
       "      <th>day</th>\n",
       "      <td>244.0</td>\n",
       "      <td>15.754098</td>\n",
       "      <td>8.825059</td>\n",
       "      <td>1.0</td>\n",
       "      <td>8.000</td>\n",
       "      <td>16.00</td>\n",
       "      <td>23.000</td>\n",
       "      <td>31.0</td>\n",
       "    </tr>\n",
       "    <tr>\n",
       "      <th>month</th>\n",
       "      <td>244.0</td>\n",
       "      <td>7.500000</td>\n",
       "      <td>1.112961</td>\n",
       "      <td>6.0</td>\n",
       "      <td>7.000</td>\n",
       "      <td>7.50</td>\n",
       "      <td>8.000</td>\n",
       "      <td>9.0</td>\n",
       "    </tr>\n",
       "    <tr>\n",
       "      <th>year</th>\n",
       "      <td>244.0</td>\n",
       "      <td>2012.000000</td>\n",
       "      <td>0.000000</td>\n",
       "      <td>2012.0</td>\n",
       "      <td>2012.000</td>\n",
       "      <td>2012.00</td>\n",
       "      <td>2012.000</td>\n",
       "      <td>2012.0</td>\n",
       "    </tr>\n",
       "    <tr>\n",
       "      <th>Temperature</th>\n",
       "      <td>244.0</td>\n",
       "      <td>32.172131</td>\n",
       "      <td>3.633843</td>\n",
       "      <td>22.0</td>\n",
       "      <td>30.000</td>\n",
       "      <td>32.00</td>\n",
       "      <td>35.000</td>\n",
       "      <td>42.0</td>\n",
       "    </tr>\n",
       "    <tr>\n",
       "      <th>RH</th>\n",
       "      <td>244.0</td>\n",
       "      <td>61.938525</td>\n",
       "      <td>14.884200</td>\n",
       "      <td>21.0</td>\n",
       "      <td>52.000</td>\n",
       "      <td>63.00</td>\n",
       "      <td>73.250</td>\n",
       "      <td>90.0</td>\n",
       "    </tr>\n",
       "    <tr>\n",
       "      <th>Ws</th>\n",
       "      <td>244.0</td>\n",
       "      <td>15.504098</td>\n",
       "      <td>2.810178</td>\n",
       "      <td>6.0</td>\n",
       "      <td>14.000</td>\n",
       "      <td>15.00</td>\n",
       "      <td>17.000</td>\n",
       "      <td>29.0</td>\n",
       "    </tr>\n",
       "    <tr>\n",
       "      <th>Rain</th>\n",
       "      <td>244.0</td>\n",
       "      <td>0.760656</td>\n",
       "      <td>1.999406</td>\n",
       "      <td>0.0</td>\n",
       "      <td>0.000</td>\n",
       "      <td>0.00</td>\n",
       "      <td>0.500</td>\n",
       "      <td>16.8</td>\n",
       "    </tr>\n",
       "    <tr>\n",
       "      <th>FFMC</th>\n",
       "      <td>244.0</td>\n",
       "      <td>77.887705</td>\n",
       "      <td>14.337571</td>\n",
       "      <td>28.6</td>\n",
       "      <td>72.075</td>\n",
       "      <td>83.50</td>\n",
       "      <td>88.300</td>\n",
       "      <td>96.0</td>\n",
       "    </tr>\n",
       "    <tr>\n",
       "      <th>DMC</th>\n",
       "      <td>244.0</td>\n",
       "      <td>14.673361</td>\n",
       "      <td>12.368039</td>\n",
       "      <td>0.7</td>\n",
       "      <td>5.800</td>\n",
       "      <td>11.30</td>\n",
       "      <td>20.750</td>\n",
       "      <td>65.9</td>\n",
       "    </tr>\n",
       "    <tr>\n",
       "      <th>DC</th>\n",
       "      <td>244.0</td>\n",
       "      <td>49.288115</td>\n",
       "      <td>47.619662</td>\n",
       "      <td>6.9</td>\n",
       "      <td>13.275</td>\n",
       "      <td>33.10</td>\n",
       "      <td>68.150</td>\n",
       "      <td>220.4</td>\n",
       "    </tr>\n",
       "    <tr>\n",
       "      <th>ISI</th>\n",
       "      <td>244.0</td>\n",
       "      <td>4.759836</td>\n",
       "      <td>4.154628</td>\n",
       "      <td>0.0</td>\n",
       "      <td>1.400</td>\n",
       "      <td>3.50</td>\n",
       "      <td>7.300</td>\n",
       "      <td>19.0</td>\n",
       "    </tr>\n",
       "    <tr>\n",
       "      <th>BUI</th>\n",
       "      <td>244.0</td>\n",
       "      <td>16.673361</td>\n",
       "      <td>14.201648</td>\n",
       "      <td>1.1</td>\n",
       "      <td>6.000</td>\n",
       "      <td>12.45</td>\n",
       "      <td>22.525</td>\n",
       "      <td>68.0</td>\n",
       "    </tr>\n",
       "    <tr>\n",
       "      <th>FWI</th>\n",
       "      <td>244.0</td>\n",
       "      <td>7.049180</td>\n",
       "      <td>7.428366</td>\n",
       "      <td>0.0</td>\n",
       "      <td>0.700</td>\n",
       "      <td>4.45</td>\n",
       "      <td>11.375</td>\n",
       "      <td>31.1</td>\n",
       "    </tr>\n",
       "    <tr>\n",
       "      <th>Region</th>\n",
       "      <td>244.0</td>\n",
       "      <td>0.500000</td>\n",
       "      <td>0.501028</td>\n",
       "      <td>0.0</td>\n",
       "      <td>0.000</td>\n",
       "      <td>0.50</td>\n",
       "      <td>1.000</td>\n",
       "      <td>1.0</td>\n",
       "    </tr>\n",
       "  </tbody>\n",
       "</table>\n",
       "</div>"
      ],
      "text/plain": [
       "             count         mean        std     min       25%      50%  \\\n",
       "day          244.0    15.754098   8.825059     1.0     8.000    16.00   \n",
       "month        244.0     7.500000   1.112961     6.0     7.000     7.50   \n",
       "year         244.0  2012.000000   0.000000  2012.0  2012.000  2012.00   \n",
       "Temperature  244.0    32.172131   3.633843    22.0    30.000    32.00   \n",
       "RH           244.0    61.938525  14.884200    21.0    52.000    63.00   \n",
       "Ws           244.0    15.504098   2.810178     6.0    14.000    15.00   \n",
       "Rain         244.0     0.760656   1.999406     0.0     0.000     0.00   \n",
       "FFMC         244.0    77.887705  14.337571    28.6    72.075    83.50   \n",
       "DMC          244.0    14.673361  12.368039     0.7     5.800    11.30   \n",
       "DC           244.0    49.288115  47.619662     6.9    13.275    33.10   \n",
       "ISI          244.0     4.759836   4.154628     0.0     1.400     3.50   \n",
       "BUI          244.0    16.673361  14.201648     1.1     6.000    12.45   \n",
       "FWI          244.0     7.049180   7.428366     0.0     0.700     4.45   \n",
       "Region       244.0     0.500000   0.501028     0.0     0.000     0.50   \n",
       "\n",
       "                  75%     max  \n",
       "day            23.000    31.0  \n",
       "month           8.000     9.0  \n",
       "year         2012.000  2012.0  \n",
       "Temperature    35.000    42.0  \n",
       "RH             73.250    90.0  \n",
       "Ws             17.000    29.0  \n",
       "Rain            0.500    16.8  \n",
       "FFMC           88.300    96.0  \n",
       "DMC            20.750    65.9  \n",
       "DC             68.150   220.4  \n",
       "ISI             7.300    19.0  \n",
       "BUI            22.525    68.0  \n",
       "FWI            11.375    31.1  \n",
       "Region          1.000     1.0  "
      ]
     },
     "execution_count": 67,
     "metadata": {},
     "output_type": "execute_result"
    }
   ],
   "source": [
    "df1.describe().T"
   ]
  },
  {
   "cell_type": "markdown",
   "id": "438014c4",
   "metadata": {},
   "source": [
    "# missing Value check"
   ]
  },
  {
   "cell_type": "code",
   "execution_count": 70,
   "id": "485c2f28",
   "metadata": {},
   "outputs": [
    {
     "data": {
      "text/plain": [
       "day            0\n",
       "month          0\n",
       "year           0\n",
       "Temperature    0\n",
       "RH             0\n",
       "Ws             0\n",
       "Rain           0\n",
       "FFMC           0\n",
       "DMC            0\n",
       "DC             0\n",
       "ISI            0\n",
       "BUI            0\n",
       "FWI            0\n",
       "Classes        0\n",
       "Region         0\n",
       "dtype: int64"
      ]
     },
     "execution_count": 70,
     "metadata": {},
     "output_type": "execute_result"
    }
   ],
   "source": [
    "df1.isnull().sum()"
   ]
  },
  {
   "cell_type": "code",
   "execution_count": 71,
   "id": "2f3942ff",
   "metadata": {},
   "outputs": [
    {
     "data": {
      "text/plain": [
       "0"
      ]
     },
     "execution_count": 71,
     "metadata": {},
     "output_type": "execute_result"
    }
   ],
   "source": [
    "##Overall missing value check\n",
    "df1.isnull().sum().sum()"
   ]
  },
  {
   "cell_type": "markdown",
   "id": "3e93f6f7",
   "metadata": {},
   "source": [
    "# Checking No of numeric and categorical column"
   ]
  },
  {
   "cell_type": "code",
   "execution_count": 75,
   "id": "ec1c5a9d",
   "metadata": {},
   "outputs": [],
   "source": [
    "num_fea=[fea for fea in df1.columns if df1[fea].dtypes!='object']"
   ]
  },
  {
   "cell_type": "code",
   "execution_count": 76,
   "id": "b8379d89",
   "metadata": {},
   "outputs": [
    {
     "data": {
      "text/plain": [
       "['day',\n",
       " 'month',\n",
       " 'year',\n",
       " 'Temperature',\n",
       " 'RH',\n",
       " 'Ws',\n",
       " 'Rain',\n",
       " 'FFMC',\n",
       " 'DMC',\n",
       " 'DC',\n",
       " 'ISI',\n",
       " 'BUI',\n",
       " 'FWI',\n",
       " 'Region']"
      ]
     },
     "execution_count": 76,
     "metadata": {},
     "output_type": "execute_result"
    }
   ],
   "source": [
    "num_fea"
   ]
  },
  {
   "cell_type": "code",
   "execution_count": 78,
   "id": "34f47e4c",
   "metadata": {},
   "outputs": [],
   "source": [
    "cat_fea=[fea for fea in df1.columns if df1[fea].dtypes=='object']"
   ]
  },
  {
   "cell_type": "code",
   "execution_count": 79,
   "id": "17dc0783",
   "metadata": {},
   "outputs": [
    {
     "data": {
      "text/plain": [
       "['Classes']"
      ]
     },
     "execution_count": 79,
     "metadata": {},
     "output_type": "execute_result"
    }
   ],
   "source": [
    "cat_fea"
   ]
  },
  {
   "cell_type": "code",
   "execution_count": 84,
   "id": "04d04723",
   "metadata": {},
   "outputs": [],
   "source": [
    "##discrete feature\n",
    "\n",
    "dic_fea=[fea for fea in num_fea if len(df[fea].unique())<35]"
   ]
  },
  {
   "cell_type": "code",
   "execution_count": 85,
   "id": "b126aabe",
   "metadata": {},
   "outputs": [
    {
     "data": {
      "text/plain": [
       "['day', 'month', 'year', 'Temperature', 'Ws', 'Region']"
      ]
     },
     "execution_count": 85,
     "metadata": {},
     "output_type": "execute_result"
    }
   ],
   "source": [
    "dic_fea"
   ]
  },
  {
   "cell_type": "code",
   "execution_count": 87,
   "id": "f871e46a",
   "metadata": {},
   "outputs": [
    {
     "data": {
      "text/plain": [
       "['RH', 'Rain', 'FFMC', 'DMC', 'DC', 'ISI', 'BUI', 'FWI']"
      ]
     },
     "execution_count": 87,
     "metadata": {},
     "output_type": "execute_result"
    }
   ],
   "source": [
    "##continuos feature\n",
    "cont_fea=[fea for fea in num_fea if fea not in dic_fea]\n",
    "cont_fea"
   ]
  },
  {
   "cell_type": "markdown",
   "id": "ab78367d",
   "metadata": {},
   "source": [
    "# Univariate Analysis for categorical feature"
   ]
  },
  {
   "cell_type": "code",
   "execution_count": 88,
   "id": "b9bb48de",
   "metadata": {},
   "outputs": [
    {
     "data": {
      "text/plain": [
       "['Classes']"
      ]
     },
     "execution_count": 88,
     "metadata": {},
     "output_type": "execute_result"
    }
   ],
   "source": [
    "cat_fea"
   ]
  },
  {
   "cell_type": "code",
   "execution_count": 93,
   "id": "8a7bb079",
   "metadata": {},
   "outputs": [
    {
     "data": {
      "image/png": "[encoded data removed]",
      "text/plain": [
       "<Figure size 432x288 with 1 Axes>"
      ]
     },
     "metadata": {
      "needs_background": "light"
     },
     "output_type": "display_data"
    }
   ],
   "source": [
    "for fea in cat_fea:\n",
    "    sns.histplot(data=df1,x=fea,kde=True,bins=15,color='orange')\n",
    "    plt.show()"
   ]
  },
  {
   "cell_type": "markdown",
   "id": "f49404c1",
   "metadata": {},
   "source": [
    "# Univariate Analysis for numerical feature"
   ]
  },
  {
   "cell_type": "code",
   "execution_count": 98,
   "id": "9e20960a",
   "metadata": {},
   "outputs": [
    {
     "data": {
      "image/png": "[encoded data removed]",
      "text/plain": [
       "<Figure size 432x288 with 1 Axes>"
      ]
     },
     "metadata": {
      "needs_background": "light"
     },
     "output_type": "display_data"
    },
    {
     "data": {
      "image/png": "[encoded data removed]",
      "text/plain": [
       "<Figure size 432x288 with 1 Axes>"
      ]
     },
     "metadata": {
      "needs_background": "light"
     },
     "output_type": "display_data"
    },
    {
     "data": {
      "image/png": "[encoded data removed]",
      "text/plain": [
       "<Figure size 432x288 with 1 Axes>"
      ]
     },
     "metadata": {
      "needs_background": "light"
     },
     "output_type": "display_data"
    },
    {
     "data": {
      "image/png": "[encoded data removed]",
      "text/plain": [
       "<Figure size 432x288 with 1 Axes>"
      ]
     },
     "metadata": {
      "needs_background": "light"
     },
     "output_type": "display_data"
    },
    {
     "data": {
      "image/png": "[encoded data removed]",
      "text/plain": [
       "<Figure size 432x288 with 1 Axes>"
      ]
     },
     "metadata": {
      "needs_background": "light"
     },
     "output_type": "display_data"
    },
    {
     "data": {
      "image/png": "[encoded data removed]",
      "text/plain": [
       "<Figure size 432x288 with 1 Axes>"
      ]
     },
     "metadata": {
      "needs_background": "light"
     },
     "output_type": "display_data"
    },
    {
     "data": {
      "image/png": "[encoded data removed]",
      "text/plain": [
       "<Figure size 432x288 with 1 Axes>"
      ]
     },
     "metadata": {
      "needs_background": "light"
     },
     "output_type": "display_data"
    },
    {
     "data": {
      "image/png": "[encoded data removed]",
      "text/plain": [
       "<Figure size 432x288 with 1 Axes>"
      ]
     },
     "metadata": {
      "needs_background": "light"
     },
     "output_type": "display_data"
    }
   ],
   "source": [
    "for fea in cont_fea:\n",
    "    sns.histplot(data=df1,x=fea,kde=True,bins=15,color='green')\n",
    "    plt.show()"
   ]
  },
  {
   "cell_type": "markdown",
   "id": "b68bdda6",
   "metadata": {},
   "source": [
    "# Observation on Univariate analysis"
   ]
  },
  {
   "cell_type": "markdown",
   "id": "24d36fbb",
   "metadata": {},
   "source": [
    "1. RH is following almost guassian distribution.\n",
    "2. Rain,DMC,DC,ISI,BUI,FWI are following right skewed distribution\n",
    "3. FFMC following left skewed distribution"
   ]
  },
  {
   "cell_type": "markdown",
   "id": "9abff57a",
   "metadata": {},
   "source": [
    "# Bivariate analysis between discrete numerical feature and target feature"
   ]
  },
  {
   "cell_type": "code",
   "execution_count": 99,
   "id": "f92a2f4a",
   "metadata": {},
   "outputs": [
    {
     "data": {
      "text/plain": [
       "['Classes']"
      ]
     },
     "execution_count": 99,
     "metadata": {},
     "output_type": "execute_result"
    }
   ],
   "source": [
    "cat_fea"
   ]
  },
  {
   "cell_type": "code",
   "execution_count": 103,
   "id": "0658939b",
   "metadata": {},
   "outputs": [
    {
     "name": "stdout",
     "output_type": "stream",
     "text": [
      "Classes   Region\n",
      "fire      1         79\n",
      "          0         59\n",
      "not fire  0         63\n",
      "          1         43\n",
      "Name: Region, dtype: int64\n"
     ]
    }
   ],
   "source": [
    "for i in cat_fea:\n",
    "    print(df1.groupby(i)['Region'].value_counts())"
   ]
  },
  {
   "cell_type": "code",
   "execution_count": 104,
   "id": "a1c5fc3a",
   "metadata": {},
   "outputs": [
    {
     "data": {
      "text/plain": [
       "<AxesSubplot:xlabel='Classes', ylabel='count'>"
      ]
     },
     "execution_count": 104,
     "metadata": {},
     "output_type": "execute_result"
    },
    {
     "data": {
      "image/png": "[encoded data removed]",
      "text/plain": [
       "<Figure size 432x288 with 1 Axes>"
      ]
     },
     "metadata": {
      "needs_background": "light"
     },
     "output_type": "display_data"
    }
   ],
   "source": [
    "sns.countplot(data=df1,x='Classes',hue='Region')"
   ]
  },
  {
   "cell_type": "code",
   "execution_count": 107,
   "id": "9bec3999",
   "metadata": {},
   "outputs": [
    {
     "data": {
      "image/png": "[encoded data removed]",
      "text/plain": [
       "<Figure size 432x288 with 1 Axes>"
      ]
     },
     "metadata": {
      "needs_background": "light"
     },
     "output_type": "display_data"
    },
    {
     "data": {
      "image/png": "[encoded data removed]",
      "text/plain": [
       "<Figure size 432x288 with 1 Axes>"
      ]
     },
     "metadata": {
      "needs_background": "light"
     },
     "output_type": "display_data"
    },
    {
     "data": {
      "image/png": "[encoded data removed]",
      "text/plain": [
       "<Figure size 432x288 with 1 Axes>"
      ]
     },
     "metadata": {
      "needs_background": "light"
     },
     "output_type": "display_data"
    },
    {
     "data": {
      "image/png": "[encoded data removed]",
      "text/plain": [
       "<Figure size 432x288 with 1 Axes>"
      ]
     },
     "metadata": {
      "needs_background": "light"
     },
     "output_type": "display_data"
    },
    {
     "data": {
      "image/png": "[encoded data removed]",
      "text/plain": [
       "<Figure size 432x288 with 1 Axes>"
      ]
     },
     "metadata": {
      "needs_background": "light"
     },
     "output_type": "display_data"
    },
    {
     "data": {
      "image/png": "[encoded data removed]",
      "text/plain": [
       "<Figure size 432x288 with 1 Axes>"
      ]
     },
     "metadata": {
      "needs_background": "light"
     },
     "output_type": "display_data"
    }
   ],
   "source": [
    "for fea in dic_fea:\n",
    "    sns.countplot(data=df1,x=fea,hue='Classes')\n",
    "    plt.show()"
   ]
  },
  {
   "cell_type": "markdown",
   "id": "03762ded",
   "metadata": {},
   "source": [
    "# Observation "
   ]
  },
  {
   "cell_type": "markdown",
   "id": "b3633680",
   "metadata": {},
   "source": [
    "1. classes vs day : Almost everyday the occurence of fire is visible and the count of fire is greater or equal to not fire count\n",
    "2. classes vs months : occurence of fire is high in month of july and august as compared to june and september.\n",
    "3. classes vs Year : Occurence of fire is high in 2012.\n",
    "4. classes vs tempreture : if the tempreture is in between 36 to 42, then there is high chances of fire.\n",
    "5. classes vs wind speed(ws) : if the ws is between 13 to 19, then there is high chances of fire.\n",
    "6. classes vs region : sidi bel abbes region has more fire chances."
   ]
  },
  {
   "cell_type": "code",
   "execution_count": 108,
   "id": "36615b8e",
   "metadata": {},
   "outputs": [
    {
     "data": {
      "text/plain": [
       "['RH', 'Rain', 'FFMC', 'DMC', 'DC', 'ISI', 'BUI', 'FWI']"
      ]
     },
     "execution_count": 108,
     "metadata": {},
     "output_type": "execute_result"
    }
   ],
   "source": [
    "cont_fea"
   ]
  },
  {
   "cell_type": "code",
   "execution_count": 111,
   "id": "983d77f6",
   "metadata": {},
   "outputs": [
    {
     "data": {
      "image/png": "[encoded data removed]",
      "text/plain": [
       "<Figure size 432x288 with 1 Axes>"
      ]
     },
     "metadata": {
      "needs_background": "light"
     },
     "output_type": "display_data"
    },
    {
     "data": {
      "image/png": "[encoded data removed]",
      "text/plain": [
       "<Figure size 432x288 with 1 Axes>"
      ]
     },
     "metadata": {
      "needs_background": "light"
     },
     "output_type": "display_data"
    },
    {
     "data": {
      "image/png": "[encoded data removed]",
      "text/plain": [
       "<Figure size 432x288 with 1 Axes>"
      ]
     },
     "metadata": {
      "needs_background": "light"
     },
     "output_type": "display_data"
    },
    {
     "data": {
      "image/png": "[encoded data removed]",
      "text/plain": [
       "<Figure size 432x288 with 1 Axes>"
      ]
     },
     "metadata": {
      "needs_background": "light"
     },
     "output_type": "display_data"
    },
    {
     "data": {
      "image/png": "[encoded data removed]",
      "text/plain": [
       "<Figure size 432x288 with 1 Axes>"
      ]
     },
     "metadata": {
      "needs_background": "light"
     },
     "output_type": "display_data"
    },
    {
     "data": {
      "image/png": "[encoded data removed]",
      "text/plain": [
       "<Figure size 432x288 with 1 Axes>"
      ]
     },
     "metadata": {
      "needs_background": "light"
     },
     "output_type": "display_data"
    },
    {
     "data": {
      "image/png": "[encoded data removed]",
      "text/plain": [
       "<Figure size 432x288 with 1 Axes>"
      ]
     },
     "metadata": {
      "needs_background": "light"
     },
     "output_type": "display_data"
    },
    {
     "data": {
      "image/png": "[encoded data removed]",
      "text/plain": [
       "<Figure size 432x288 with 1 Axes>"
      ]
     },
     "metadata": {
      "needs_background": "light"
     },
     "output_type": "display_data"
    }
   ],
   "source": [
    "for fea in cont_fea:\n",
    "    sns.boxplot(data=df1,x=fea,color='g')\n",
    "    plt.title(fea)\n",
    "    plt.show()"
   ]
  },
  {
   "cell_type": "markdown",
   "id": "ebe70cc3",
   "metadata": {},
   "source": [
    "# Observation of outlier in continious feature"
   ]
  },
  {
   "cell_type": "markdown",
   "id": "ec554134",
   "metadata": {},
   "source": [
    "feature having outlier : Rain,FFMC,DMC,DC,ISI,BUI,FWI"
   ]
  },
  {
   "cell_type": "markdown",
   "id": "11faff4b",
   "metadata": {},
   "source": [
    "# Correlation between Each numerical feature"
   ]
  },
  {
   "cell_type": "code",
   "execution_count": 114,
   "id": "bce4ab2c",
   "metadata": {},
   "outputs": [
    {
     "data": {
      "text/html": [
       "<div>\n",
       "<style scoped>\n",
       "    .dataframe tbody tr th:only-of-type {\n",
       "        vertical-align: middle;\n",
       "    }\n",
       "\n",
       "    .dataframe tbody tr th {\n",
       "        vertical-align: top;\n",
       "    }\n",
       "\n",
       "    .dataframe thead th {\n",
       "        text-align: right;\n",
       "    }\n",
       "</style>\n",
       "<table border=\"1\" class=\"dataframe\">\n",
       "  <thead>\n",
       "    <tr style=\"text-align: right;\">\n",
       "      <th></th>\n",
       "      <th>Temperature</th>\n",
       "      <th>RH</th>\n",
       "      <th>Ws</th>\n",
       "      <th>Rain</th>\n",
       "      <th>FFMC</th>\n",
       "      <th>DMC</th>\n",
       "      <th>DC</th>\n",
       "      <th>ISI</th>\n",
       "      <th>BUI</th>\n",
       "      <th>FWI</th>\n",
       "    </tr>\n",
       "  </thead>\n",
       "  <tbody>\n",
       "    <tr>\n",
       "      <th>Temperature</th>\n",
       "      <td>1.00</td>\n",
       "      <td>-0.65</td>\n",
       "      <td>-0.28</td>\n",
       "      <td>-0.33</td>\n",
       "      <td>0.68</td>\n",
       "      <td>0.48</td>\n",
       "      <td>0.37</td>\n",
       "      <td>0.61</td>\n",
       "      <td>0.46</td>\n",
       "      <td>0.57</td>\n",
       "    </tr>\n",
       "    <tr>\n",
       "      <th>RH</th>\n",
       "      <td>-0.65</td>\n",
       "      <td>1.00</td>\n",
       "      <td>0.24</td>\n",
       "      <td>0.22</td>\n",
       "      <td>-0.65</td>\n",
       "      <td>-0.41</td>\n",
       "      <td>-0.22</td>\n",
       "      <td>-0.69</td>\n",
       "      <td>-0.35</td>\n",
       "      <td>-0.58</td>\n",
       "    </tr>\n",
       "    <tr>\n",
       "      <th>Ws</th>\n",
       "      <td>-0.28</td>\n",
       "      <td>0.24</td>\n",
       "      <td>1.00</td>\n",
       "      <td>0.17</td>\n",
       "      <td>-0.16</td>\n",
       "      <td>-0.00</td>\n",
       "      <td>0.08</td>\n",
       "      <td>0.01</td>\n",
       "      <td>0.03</td>\n",
       "      <td>0.03</td>\n",
       "    </tr>\n",
       "    <tr>\n",
       "      <th>Rain</th>\n",
       "      <td>-0.33</td>\n",
       "      <td>0.22</td>\n",
       "      <td>0.17</td>\n",
       "      <td>1.00</td>\n",
       "      <td>-0.54</td>\n",
       "      <td>-0.29</td>\n",
       "      <td>-0.30</td>\n",
       "      <td>-0.35</td>\n",
       "      <td>-0.30</td>\n",
       "      <td>-0.32</td>\n",
       "    </tr>\n",
       "    <tr>\n",
       "      <th>FFMC</th>\n",
       "      <td>0.68</td>\n",
       "      <td>-0.65</td>\n",
       "      <td>-0.16</td>\n",
       "      <td>-0.54</td>\n",
       "      <td>1.00</td>\n",
       "      <td>0.60</td>\n",
       "      <td>0.50</td>\n",
       "      <td>0.74</td>\n",
       "      <td>0.59</td>\n",
       "      <td>0.69</td>\n",
       "    </tr>\n",
       "    <tr>\n",
       "      <th>DMC</th>\n",
       "      <td>0.48</td>\n",
       "      <td>-0.41</td>\n",
       "      <td>-0.00</td>\n",
       "      <td>-0.29</td>\n",
       "      <td>0.60</td>\n",
       "      <td>1.00</td>\n",
       "      <td>0.88</td>\n",
       "      <td>0.68</td>\n",
       "      <td>0.98</td>\n",
       "      <td>0.88</td>\n",
       "    </tr>\n",
       "    <tr>\n",
       "      <th>DC</th>\n",
       "      <td>0.37</td>\n",
       "      <td>-0.22</td>\n",
       "      <td>0.08</td>\n",
       "      <td>-0.30</td>\n",
       "      <td>0.50</td>\n",
       "      <td>0.88</td>\n",
       "      <td>1.00</td>\n",
       "      <td>0.50</td>\n",
       "      <td>0.94</td>\n",
       "      <td>0.74</td>\n",
       "    </tr>\n",
       "    <tr>\n",
       "      <th>ISI</th>\n",
       "      <td>0.61</td>\n",
       "      <td>-0.69</td>\n",
       "      <td>0.01</td>\n",
       "      <td>-0.35</td>\n",
       "      <td>0.74</td>\n",
       "      <td>0.68</td>\n",
       "      <td>0.50</td>\n",
       "      <td>1.00</td>\n",
       "      <td>0.64</td>\n",
       "      <td>0.92</td>\n",
       "    </tr>\n",
       "    <tr>\n",
       "      <th>BUI</th>\n",
       "      <td>0.46</td>\n",
       "      <td>-0.35</td>\n",
       "      <td>0.03</td>\n",
       "      <td>-0.30</td>\n",
       "      <td>0.59</td>\n",
       "      <td>0.98</td>\n",
       "      <td>0.94</td>\n",
       "      <td>0.64</td>\n",
       "      <td>1.00</td>\n",
       "      <td>0.86</td>\n",
       "    </tr>\n",
       "    <tr>\n",
       "      <th>FWI</th>\n",
       "      <td>0.57</td>\n",
       "      <td>-0.58</td>\n",
       "      <td>0.03</td>\n",
       "      <td>-0.32</td>\n",
       "      <td>0.69</td>\n",
       "      <td>0.88</td>\n",
       "      <td>0.74</td>\n",
       "      <td>0.92</td>\n",
       "      <td>0.86</td>\n",
       "      <td>1.00</td>\n",
       "    </tr>\n",
       "  </tbody>\n",
       "</table>\n",
       "</div>"
      ],
      "text/plain": [
       "             Temperature    RH    Ws  Rain  FFMC   DMC    DC   ISI   BUI   FWI\n",
       "Temperature         1.00 -0.65 -0.28 -0.33  0.68  0.48  0.37  0.61  0.46  0.57\n",
       "RH                 -0.65  1.00  0.24  0.22 -0.65 -0.41 -0.22 -0.69 -0.35 -0.58\n",
       "Ws                 -0.28  0.24  1.00  0.17 -0.16 -0.00  0.08  0.01  0.03  0.03\n",
       "Rain               -0.33  0.22  0.17  1.00 -0.54 -0.29 -0.30 -0.35 -0.30 -0.32\n",
       "FFMC                0.68 -0.65 -0.16 -0.54  1.00  0.60  0.50  0.74  0.59  0.69\n",
       "DMC                 0.48 -0.41 -0.00 -0.29  0.60  1.00  0.88  0.68  0.98  0.88\n",
       "DC                  0.37 -0.22  0.08 -0.30  0.50  0.88  1.00  0.50  0.94  0.74\n",
       "ISI                 0.61 -0.69  0.01 -0.35  0.74  0.68  0.50  1.00  0.64  0.92\n",
       "BUI                 0.46 -0.35  0.03 -0.30  0.59  0.98  0.94  0.64  1.00  0.86\n",
       "FWI                 0.57 -0.58  0.03 -0.32  0.69  0.88  0.74  0.92  0.86  1.00"
      ]
     },
     "execution_count": 114,
     "metadata": {},
     "output_type": "execute_result"
    }
   ],
   "source": [
    "data= round(df1[[feature for feature in num_fea if feature not in ['day', 'month','year', 'Region']]].corr(),2)\n",
    "data"
   ]
  },
  {
   "cell_type": "code",
   "execution_count": 115,
   "id": "aa597a83",
   "metadata": {},
   "outputs": [
    {
     "data": {
      "text/plain": [
       "<AxesSubplot:>"
      ]
     },
     "execution_count": 115,
     "metadata": {},
     "output_type": "execute_result"
    },
    {
     "data": {
      "image/png": "[encoded data removed]",
      "text/plain": [
       "<Figure size 1080x1080 with 2 Axes>"
      ]
     },
     "metadata": {
      "needs_background": "light"
     },
     "output_type": "display_data"
    }
   ],
   "source": [
    "plt.figure(figsize=(15,15))\n",
    "sns.heatmap(data)"
   ]
  },
  {
   "cell_type": "markdown",
   "id": "c8dd0940",
   "metadata": {},
   "source": [
    "Note -\n",
    "\n",
    "1. Correlation coefficients between 0.9 and 1.0, very highly correlated.\n",
    "2. Correlation coefficients between 0.7 and 0.9, highly correlated.\n",
    "3. Correlation coefficients between 0.5 and 0.7, moderately correlated.\n",
    "4. Correlation coefficients between 0.3 and 0.5, low correlation.\n",
    "5. Correlation coefficients less than 0.3, little correlation"
   ]
  },
  {
   "cell_type": "markdown",
   "id": "f6e3d519",
   "metadata": {},
   "source": [
    "# Observation"
   ]
  },
  {
   "cell_type": "markdown",
   "id": "5990f699",
   "metadata": {},
   "source": [
    "1. Very highly Correlated features: DMC-BUI, DC-BUI, ISI-FWI\n",
    "2. Highly correlated features: FFMC-ISI, DC-DMC, FWI-DMC, FWI-DC, FWI-BUI\n",
    "Note: Features with very hihg and high correlation are more linearly dependent and hence have almost the same effect on the dependent variable. So, we can drop one of the two features."
   ]
  },
  {
   "cell_type": "markdown",
   "id": "f2b40316",
   "metadata": {},
   "source": [
    "# Realtionship between numerical feature and target feature"
   ]
  },
  {
   "cell_type": "code",
   "execution_count": 116,
   "id": "3e510bdd",
   "metadata": {},
   "outputs": [
    {
     "data": {
      "image/png": "[encoded data removed]",
      "text/plain": [
       "<Figure size 720x360 with 1 Axes>"
      ]
     },
     "metadata": {},
     "output_type": "display_data"
    },
    {
     "data": {
      "image/png": "[encoded data removed]",
      "text/plain": [
       "<Figure size 720x360 with 1 Axes>"
      ]
     },
     "metadata": {},
     "output_type": "display_data"
    },
    {
     "data": {
      "image/png": "[encoded data removed]",
      "text/plain": [
       "<Figure size 720x360 with 1 Axes>"
      ]
     },
     "metadata": {},
     "output_type": "display_data"
    },
    {
     "data": {
      "image/png": "[encoded data removed]",
      "text/plain": [
       "<Figure size 720x360 with 1 Axes>"
      ]
     },
     "metadata": {},
     "output_type": "display_data"
    },
    {
     "data": {
      "image/png": "[encoded data removed]",
      "text/plain": [
       "<Figure size 720x360 with 1 Axes>"
      ]
     },
     "metadata": {},
     "output_type": "display_data"
    },
    {
     "data": {
      "image/png": "[encoded data removed]",
      "text/plain": [
       "<Figure size 720x360 with 1 Axes>"
      ]
     },
     "metadata": {},
     "output_type": "display_data"
    },
    {
     "data": {
      "image/png": "[encoded data removed]",
      "text/plain": [
       "<Figure size 720x360 with 1 Axes>"
      ]
     },
     "metadata": {},
     "output_type": "display_data"
    },
    {
     "data": {
      "image/png": "[encoded data removed]",
      "text/plain": [
       "<Figure size 720x360 with 1 Axes>"
      ]
     },
     "metadata": {},
     "output_type": "display_data"
    },
    {
     "data": {
      "image/png": "[encoded data removed]",
      "text/plain": [
       "<Figure size 720x360 with 1 Axes>"
      ]
     },
     "metadata": {},
     "output_type": "display_data"
    },
    {
     "data": {
      "image/png": "[encoded data removed]",
      "text/plain": [
       "<Figure size 720x360 with 1 Axes>"
      ]
     },
     "metadata": {},
     "output_type": "display_data"
    }
   ],
   "source": [
    "num_fea_cust=[feature for feature in num_fea if feature not in ['day', 'month', 'year', 'Region']]\n",
    "\n",
    "sns.set(rc={'figure.figsize':(10,5)})\n",
    "for feature in num_fea_cust:\n",
    "    sns.stripplot(data=df1, x=feature, y='Classes')\n",
    "    plt.show();"
   ]
  },
  {
   "cell_type": "markdown",
   "id": "798f6631",
   "metadata": {},
   "source": [
    "# Observation :"
   ]
  },
  {
   "cell_type": "markdown",
   "id": "513c1372",
   "metadata": {},
   "source": [
    "1. It is visible that for temperature between 30 to 37, there is most no of cases of occurance of fire, i.e Hot regions are more prone to forrest fires.\n",
    "2. For RH 40 to 70 and wind speed between 13 to 19 Km/h, Most no of cases of occurance of fire is reported, i.e dry regions are more prone to forrest fires.\n",
    "3. Almost all cases of occurance of fire is for region having rain less than 1 mm, i.e dry regions are more prone to forrest fires.\n",
    "4. For FFMC(Fine Fuel Moisture Code ) greater than 80, almost all cases of fire is reported.\n",
    "5. DMC (Duff Moisture Code) >30 and DC (Drought code) >100, almost all cases of occurance of fire reported, this means drought affected areas are more prone to forrest fires."
   ]
  },
  {
   "cell_type": "markdown",
   "id": "e9e97a52",
   "metadata": {},
   "source": [
    "# Final Observation : "
   ]
  },
  {
   "cell_type": "markdown",
   "id": "15dacdff",
   "metadata": {},
   "source": [
    "1. Very highly Correlated features: DMC-BUI, DC-BUI, ISI-FWI\n",
    "2. Highly correlated features: FFMC-ISI, DC-DMC, FWI-DMC, FWI-DC, FWI-BUI\n",
    "3. Temperature between 30 to 37 degree celcius have most no of cases of occurance of fire.\n",
    "4. Wind speed between 13 to 19 Km/hr range there is most no of occurance of fire.\n",
    "5. Almost all cases of occurance of fire is for region having rain less than 1 mm, i.e dry regions are more prone to forrest fires.\n",
    "6. For FFMC(Fine Fuel Moisture Code ) greater than 80, almost all cases of fire is reported.\n",
    "7. DMC (Duff Moisture Code) >30 and DC (Drought code) >100, almost all cases of occurance of fire reported, this means drought affected areas are more prone to forrest fires.\n",
    "7. In Bejaia region, the no of cases of occurance of fire is less compared to no of cases of occurance of no fire.\n",
    "8. In Sidi Bel-abbes region the no of cases of occurance of fire is more compared to no fire.\n",
    "9. Also Overall no of cases of occurance of fire is more in Sidi Bel-abbes region as compared to Bejaia region.\n",
    "10. Most no of cases of fire occured are in the month of august and least no of cases of fire occured is in month of september.\n",
    "11. July and august have more cases of fire as compared to no fire.\n",
    "12. June and september have more cases of no fire as compared to fire.\n",
    "13. Relative Humidity, RH feature doesnt have outliers whereas Temperature, FFMC, wind speed, Rain, DMC,DC, ISI, BUI and FWI have outilers.\n",
    "14. There is no null vales in dataset.\n"
   ]
  },
  {
   "cell_type": "code",
   "execution_count": null,
   "id": "404c6250",
   "metadata": {},
   "outputs": [],
   "source": []
  }
 ],
 "metadata": {
  "kernelspec": {
   "display_name": "Python 3 (ipykernel)",
   "language": "python",
   "name": "python3"
  },
  "language_info": {
   "codemirror_mode": {
    "name": "ipython",
    "version": 3
   },
   "file_extension": ".py",
   "mimetype": "text/x-python",
   "name": "python",
   "nbconvert_exporter": "python",
   "pygments_lexer": "ipython3",
   "version": "3.9.12"
  }
 },
 "nbformat": 4,
 "nbformat_minor": 5
}
